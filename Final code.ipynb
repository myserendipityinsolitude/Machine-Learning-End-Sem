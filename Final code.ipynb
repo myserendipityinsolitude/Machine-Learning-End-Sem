{
 "cells": [
  {
   "cell_type": "markdown",
   "metadata": {
    "id": "ZG2ZNUsADNPe"
   },
   "source": [
    "EDA - EXPLORATORY DATA ANALYSIS"
   ]
  },
  {
   "cell_type": "code",
   "execution_count": 1,
   "metadata": {
    "id": "zLl-7ygxZ4am"
   },
   "outputs": [],
   "source": [
    "import numpy as np\n",
    "import pandas as pd\n",
    "import matplotlib.pyplot as plt\n",
    "import seaborn as sns\n",
    "import os"
   ]
  },
  {
   "cell_type": "code",
   "execution_count": 2,
   "metadata": {
    "colab": {
     "base_uri": "https://localhost:8080/",
     "height": 35
    },
    "id": "4STm3umheRaE",
    "outputId": "b3c39023-7c65-45c6-a07f-99fd8a67a84b"
   },
   "outputs": [],
   "source": [
    "#'''\n",
    "#from google.colab import drive\n",
    "#drive.mount('/content/drive')\n",
    "#'''"
   ]
  },
  {
   "cell_type": "code",
   "execution_count": 3,
   "metadata": {
    "colab": {
     "base_uri": "https://localhost:8080/"
    },
    "id": "DEEcOxf4sEYS",
    "outputId": "05ec6449-4d65-4311-ee08-e5213c136140"
   },
   "outputs": [
    {
     "name": "stderr",
     "output_type": "stream",
     "text": [
      "C:\\Users\\DELL\\AppData\\Local\\Temp\\ipykernel_9800\\4162320331.py:1: DtypeWarning: Columns (3,4,5) have mixed types. Specify dtype option on import or set low_memory=False.\n",
      "  data = pd.read_csv(\"dataset.csv\")\n"
     ]
    },
    {
     "name": "stdout",
     "output_type": "stream",
     "text": [
      "              id    spkid          full_name      pdes     name prefix neo  \\\n",
      "0       a0000001  2000001            1 Ceres         1    Ceres    NaN   N   \n",
      "1       a0000002  2000002           2 Pallas         2   Pallas    NaN   N   \n",
      "2       a0000003  2000003             3 Juno         3     Juno    NaN   N   \n",
      "3       a0000004  2000004            4 Vesta         4    Vesta    NaN   N   \n",
      "4       a0000005  2000005          5 Astraea         5  Astraea    NaN   N   \n",
      "...          ...      ...                ...       ...      ...    ...  ..   \n",
      "958519  bPLS6013  3246801         (6013 P-L)  6013 P-L      NaN    NaN   N   \n",
      "958520  bPLS6331  3246834         (6331 P-L)  6331 P-L      NaN    NaN   N   \n",
      "958521  bPLS6344  3013075         (6344 P-L)  6344 P-L      NaN    NaN   Y   \n",
      "958522  bT2S2060  3246457         (2060 T-2)  2060 T-2      NaN    NaN   N   \n",
      "958523  bT3S2678  3246553         (2678 T-3)  2678 T-3      NaN    NaN   N   \n",
      "\n",
      "       pha       H  diameter  ...       sigma_i      sigma_om       sigma_w  \\\n",
      "0        N   3.400   939.400  ...  4.608900e-09  6.168800e-08  6.624800e-08   \n",
      "1        N   4.200   545.000  ...  3.469400e-06  6.272400e-06  9.128200e-06   \n",
      "2        N   5.330   246.596  ...  3.223100e-06  1.664600e-05  1.772100e-05   \n",
      "3        N   3.000   525.400  ...  2.170600e-07  3.880800e-07  1.789300e-07   \n",
      "4        N   6.900   106.699  ...  2.740800e-06  2.894900e-05  2.984200e-05   \n",
      "...     ..     ...       ...  ...           ...           ...           ...   \n",
      "958519   N  17.135       NaN  ...  6.969000e+00  7.433000e+00  4.631100e+01   \n",
      "958520   N  18.500       NaN  ...  1.563500e-05  5.598600e-05  2.380400e-04   \n",
      "958521   Y  20.400       NaN  ...  1.853300e-05  5.691700e-05  8.969200e-05   \n",
      "958522   N  18.071       NaN  ...  5.448800e-01  4.391600e+00  1.898800e+01   \n",
      "958523   N  18.060       NaN  ...  1.102300e+00  3.117000e-01  1.284300e+00   \n",
      "\n",
      "            sigma_ma      sigma_ad       sigma_n      sigma_tp     sigma_per  \\\n",
      "0       7.820700e-09  1.111300e-11  1.196500e-12  3.782900e-08  9.415900e-09   \n",
      "1       8.859100e-06  4.961300e-09  4.653600e-10  4.078700e-05  3.680700e-06   \n",
      "2       8.110400e-06  4.363900e-09  4.413400e-10  3.528800e-05  3.107200e-06   \n",
      "3       1.206800e-06  1.648600e-09  2.612500e-10  4.103700e-06  1.274900e-06   \n",
      "4       8.303800e-06  4.729000e-09  5.522700e-10  3.474300e-05  3.490500e-06   \n",
      "...              ...           ...           ...           ...           ...   \n",
      "958519  2.738300e+01  1.041200e+00  1.652100e-01  1.309700e+02  7.264900e+02   \n",
      "958520  1.298200e-04  2.418900e-08  3.346100e-09  4.690200e-04  1.578500e-05   \n",
      "958521  5.272600e-05  1.650100e-07  1.101600e-08  2.830600e-04  9.127500e-05   \n",
      "958522  1.083800e+01  7.171600e-01  1.016700e-01  3.898400e+01  5.035500e+02   \n",
      "958523  4.736100e-01  1.626700e-01  2.487900e-02  5.523600e+00  1.064800e+02   \n",
      "\n",
      "        class      rms  \n",
      "0         MBA  0.43301  \n",
      "1         MBA  0.35936  \n",
      "2         MBA  0.33848  \n",
      "3         MBA  0.39980  \n",
      "4         MBA  0.52191  \n",
      "...       ...      ...  \n",
      "958519    MBA  0.23839  \n",
      "958520    MBA  0.53633  \n",
      "958521    APO  0.51556  \n",
      "958522    MBA  0.25641  \n",
      "958523    MBA  0.26980  \n",
      "\n",
      "[958524 rows x 45 columns]\n"
     ]
    }
   ],
   "source": [
    "data = pd.read_csv(\"dataset.csv\")\n",
    "print(data)\n"
   ]
  },
  {
   "cell_type": "code",
   "execution_count": 4,
   "metadata": {
    "colab": {
     "base_uri": "https://localhost:8080/"
    },
    "id": "qCiIkkE9MVS3",
    "outputId": "49646a75-171c-4d7d-a070-dbe3242115eb"
   },
   "outputs": [
    {
     "name": "stdout",
     "output_type": "stream",
     "text": [
      "id                     0\n",
      "spkid                  0\n",
      "full_name              0\n",
      "pdes                   0\n",
      "name              936460\n",
      "prefix            958506\n",
      "neo                    4\n",
      "pha                19921\n",
      "H                   6263\n",
      "diameter          822315\n",
      "albedo            823421\n",
      "diameter_sigma    822443\n",
      "orbit_id               0\n",
      "epoch                  0\n",
      "epoch_mjd              0\n",
      "epoch_cal              0\n",
      "equinox                0\n",
      "e                      0\n",
      "a                      0\n",
      "q                      0\n",
      "i                      0\n",
      "om                     0\n",
      "w                      0\n",
      "ma                     1\n",
      "ad                     4\n",
      "n                      0\n",
      "tp                     0\n",
      "tp_cal                 0\n",
      "per                    4\n",
      "per_y                  1\n",
      "moid               19921\n",
      "moid_ld              127\n",
      "sigma_e            19922\n",
      "sigma_a            19922\n",
      "sigma_q            19922\n",
      "sigma_i            19922\n",
      "sigma_om           19922\n",
      "sigma_w            19922\n",
      "sigma_ma           19922\n",
      "sigma_ad           19926\n",
      "sigma_n            19922\n",
      "sigma_tp           19922\n",
      "sigma_per          19926\n",
      "class                  0\n",
      "rms                    2\n",
      "dtype: int64\n"
     ]
    }
   ],
   "source": [
    "null_values = data.isnull().sum()\n",
    "print(null_values)"
   ]
  },
  {
   "cell_type": "code",
   "execution_count": 5,
   "metadata": {
    "colab": {
     "base_uri": "https://localhost:8080/"
    },
    "id": "jbJtfXuxrnW_",
    "outputId": "e28c576b-018c-42bb-a417-1682f98ee118"
   },
   "outputs": [
    {
     "data": {
      "text/plain": [
       "Index(['id', 'spkid', 'full_name', 'pdes', 'name', 'prefix', 'neo', 'pha', 'H',\n",
       "       'diameter', 'albedo', 'diameter_sigma', 'orbit_id', 'epoch',\n",
       "       'epoch_mjd', 'epoch_cal', 'equinox', 'e', 'a', 'q', 'i', 'om', 'w',\n",
       "       'ma', 'ad', 'n', 'tp', 'tp_cal', 'per', 'per_y', 'moid', 'moid_ld',\n",
       "       'sigma_e', 'sigma_a', 'sigma_q', 'sigma_i', 'sigma_om', 'sigma_w',\n",
       "       'sigma_ma', 'sigma_ad', 'sigma_n', 'sigma_tp', 'sigma_per', 'class',\n",
       "       'rms'],\n",
       "      dtype='object')"
      ]
     },
     "execution_count": 5,
     "metadata": {},
     "output_type": "execute_result"
    }
   ],
   "source": [
    "data.columns"
   ]
  },
  {
   "cell_type": "code",
   "execution_count": 6,
   "metadata": {
    "colab": {
     "base_uri": "https://localhost:8080/",
     "height": 342
    },
    "id": "o5nw_QZgfzTU",
    "outputId": "e9b4b7b7-1a1b-41b7-f0e6-48de681a57b8"
   },
   "outputs": [
    {
     "data": {
      "text/html": [
       "<div>\n",
       "<style scoped>\n",
       "    .dataframe tbody tr th:only-of-type {\n",
       "        vertical-align: middle;\n",
       "    }\n",
       "\n",
       "    .dataframe tbody tr th {\n",
       "        vertical-align: top;\n",
       "    }\n",
       "\n",
       "    .dataframe thead th {\n",
       "        text-align: right;\n",
       "    }\n",
       "</style>\n",
       "<table border=\"1\" class=\"dataframe\">\n",
       "  <thead>\n",
       "    <tr style=\"text-align: right;\">\n",
       "      <th></th>\n",
       "      <th>id</th>\n",
       "      <th>spkid</th>\n",
       "      <th>full_name</th>\n",
       "      <th>pdes</th>\n",
       "      <th>name</th>\n",
       "      <th>prefix</th>\n",
       "      <th>neo</th>\n",
       "      <th>pha</th>\n",
       "      <th>H</th>\n",
       "      <th>diameter</th>\n",
       "      <th>...</th>\n",
       "      <th>sigma_i</th>\n",
       "      <th>sigma_om</th>\n",
       "      <th>sigma_w</th>\n",
       "      <th>sigma_ma</th>\n",
       "      <th>sigma_ad</th>\n",
       "      <th>sigma_n</th>\n",
       "      <th>sigma_tp</th>\n",
       "      <th>sigma_per</th>\n",
       "      <th>class</th>\n",
       "      <th>rms</th>\n",
       "    </tr>\n",
       "  </thead>\n",
       "  <tbody>\n",
       "    <tr>\n",
       "      <th>0</th>\n",
       "      <td>a0000001</td>\n",
       "      <td>2000001</td>\n",
       "      <td>1 Ceres</td>\n",
       "      <td>1</td>\n",
       "      <td>Ceres</td>\n",
       "      <td>NaN</td>\n",
       "      <td>N</td>\n",
       "      <td>N</td>\n",
       "      <td>3.40</td>\n",
       "      <td>939.400</td>\n",
       "      <td>...</td>\n",
       "      <td>4.608900e-09</td>\n",
       "      <td>6.168800e-08</td>\n",
       "      <td>6.624800e-08</td>\n",
       "      <td>7.820700e-09</td>\n",
       "      <td>1.111300e-11</td>\n",
       "      <td>1.196500e-12</td>\n",
       "      <td>3.782900e-08</td>\n",
       "      <td>9.415900e-09</td>\n",
       "      <td>MBA</td>\n",
       "      <td>0.43301</td>\n",
       "    </tr>\n",
       "    <tr>\n",
       "      <th>1</th>\n",
       "      <td>a0000002</td>\n",
       "      <td>2000002</td>\n",
       "      <td>2 Pallas</td>\n",
       "      <td>2</td>\n",
       "      <td>Pallas</td>\n",
       "      <td>NaN</td>\n",
       "      <td>N</td>\n",
       "      <td>N</td>\n",
       "      <td>4.20</td>\n",
       "      <td>545.000</td>\n",
       "      <td>...</td>\n",
       "      <td>3.469400e-06</td>\n",
       "      <td>6.272400e-06</td>\n",
       "      <td>9.128200e-06</td>\n",
       "      <td>8.859100e-06</td>\n",
       "      <td>4.961300e-09</td>\n",
       "      <td>4.653600e-10</td>\n",
       "      <td>4.078700e-05</td>\n",
       "      <td>3.680700e-06</td>\n",
       "      <td>MBA</td>\n",
       "      <td>0.35936</td>\n",
       "    </tr>\n",
       "    <tr>\n",
       "      <th>2</th>\n",
       "      <td>a0000003</td>\n",
       "      <td>2000003</td>\n",
       "      <td>3 Juno</td>\n",
       "      <td>3</td>\n",
       "      <td>Juno</td>\n",
       "      <td>NaN</td>\n",
       "      <td>N</td>\n",
       "      <td>N</td>\n",
       "      <td>5.33</td>\n",
       "      <td>246.596</td>\n",
       "      <td>...</td>\n",
       "      <td>3.223100e-06</td>\n",
       "      <td>1.664600e-05</td>\n",
       "      <td>1.772100e-05</td>\n",
       "      <td>8.110400e-06</td>\n",
       "      <td>4.363900e-09</td>\n",
       "      <td>4.413400e-10</td>\n",
       "      <td>3.528800e-05</td>\n",
       "      <td>3.107200e-06</td>\n",
       "      <td>MBA</td>\n",
       "      <td>0.33848</td>\n",
       "    </tr>\n",
       "    <tr>\n",
       "      <th>3</th>\n",
       "      <td>a0000004</td>\n",
       "      <td>2000004</td>\n",
       "      <td>4 Vesta</td>\n",
       "      <td>4</td>\n",
       "      <td>Vesta</td>\n",
       "      <td>NaN</td>\n",
       "      <td>N</td>\n",
       "      <td>N</td>\n",
       "      <td>3.00</td>\n",
       "      <td>525.400</td>\n",
       "      <td>...</td>\n",
       "      <td>2.170600e-07</td>\n",
       "      <td>3.880800e-07</td>\n",
       "      <td>1.789300e-07</td>\n",
       "      <td>1.206800e-06</td>\n",
       "      <td>1.648600e-09</td>\n",
       "      <td>2.612500e-10</td>\n",
       "      <td>4.103700e-06</td>\n",
       "      <td>1.274900e-06</td>\n",
       "      <td>MBA</td>\n",
       "      <td>0.39980</td>\n",
       "    </tr>\n",
       "    <tr>\n",
       "      <th>4</th>\n",
       "      <td>a0000005</td>\n",
       "      <td>2000005</td>\n",
       "      <td>5 Astraea</td>\n",
       "      <td>5</td>\n",
       "      <td>Astraea</td>\n",
       "      <td>NaN</td>\n",
       "      <td>N</td>\n",
       "      <td>N</td>\n",
       "      <td>6.90</td>\n",
       "      <td>106.699</td>\n",
       "      <td>...</td>\n",
       "      <td>2.740800e-06</td>\n",
       "      <td>2.894900e-05</td>\n",
       "      <td>2.984200e-05</td>\n",
       "      <td>8.303800e-06</td>\n",
       "      <td>4.729000e-09</td>\n",
       "      <td>5.522700e-10</td>\n",
       "      <td>3.474300e-05</td>\n",
       "      <td>3.490500e-06</td>\n",
       "      <td>MBA</td>\n",
       "      <td>0.52191</td>\n",
       "    </tr>\n",
       "  </tbody>\n",
       "</table>\n",
       "<p>5 rows × 45 columns</p>\n",
       "</div>"
      ],
      "text/plain": [
       "         id    spkid       full_name pdes     name prefix neo pha     H  \\\n",
       "0  a0000001  2000001         1 Ceres    1    Ceres    NaN   N   N  3.40   \n",
       "1  a0000002  2000002        2 Pallas    2   Pallas    NaN   N   N  4.20   \n",
       "2  a0000003  2000003          3 Juno    3     Juno    NaN   N   N  5.33   \n",
       "3  a0000004  2000004         4 Vesta    4    Vesta    NaN   N   N  3.00   \n",
       "4  a0000005  2000005       5 Astraea    5  Astraea    NaN   N   N  6.90   \n",
       "\n",
       "   diameter  ...       sigma_i      sigma_om       sigma_w      sigma_ma  \\\n",
       "0   939.400  ...  4.608900e-09  6.168800e-08  6.624800e-08  7.820700e-09   \n",
       "1   545.000  ...  3.469400e-06  6.272400e-06  9.128200e-06  8.859100e-06   \n",
       "2   246.596  ...  3.223100e-06  1.664600e-05  1.772100e-05  8.110400e-06   \n",
       "3   525.400  ...  2.170600e-07  3.880800e-07  1.789300e-07  1.206800e-06   \n",
       "4   106.699  ...  2.740800e-06  2.894900e-05  2.984200e-05  8.303800e-06   \n",
       "\n",
       "       sigma_ad       sigma_n      sigma_tp     sigma_per  class      rms  \n",
       "0  1.111300e-11  1.196500e-12  3.782900e-08  9.415900e-09    MBA  0.43301  \n",
       "1  4.961300e-09  4.653600e-10  4.078700e-05  3.680700e-06    MBA  0.35936  \n",
       "2  4.363900e-09  4.413400e-10  3.528800e-05  3.107200e-06    MBA  0.33848  \n",
       "3  1.648600e-09  2.612500e-10  4.103700e-06  1.274900e-06    MBA  0.39980  \n",
       "4  4.729000e-09  5.522700e-10  3.474300e-05  3.490500e-06    MBA  0.52191  \n",
       "\n",
       "[5 rows x 45 columns]"
      ]
     },
     "execution_count": 6,
     "metadata": {},
     "output_type": "execute_result"
    }
   ],
   "source": [
    "data.head()"
   ]
  },
  {
   "cell_type": "code",
   "execution_count": 7,
   "metadata": {
    "colab": {
     "base_uri": "https://localhost:8080/",
     "height": 342
    },
    "id": "VUIvpuJXf5kt",
    "outputId": "3725acf3-6653-49ac-f7d2-c99b975214b1"
   },
   "outputs": [
    {
     "data": {
      "text/html": [
       "<div>\n",
       "<style scoped>\n",
       "    .dataframe tbody tr th:only-of-type {\n",
       "        vertical-align: middle;\n",
       "    }\n",
       "\n",
       "    .dataframe tbody tr th {\n",
       "        vertical-align: top;\n",
       "    }\n",
       "\n",
       "    .dataframe thead th {\n",
       "        text-align: right;\n",
       "    }\n",
       "</style>\n",
       "<table border=\"1\" class=\"dataframe\">\n",
       "  <thead>\n",
       "    <tr style=\"text-align: right;\">\n",
       "      <th></th>\n",
       "      <th>id</th>\n",
       "      <th>spkid</th>\n",
       "      <th>full_name</th>\n",
       "      <th>pdes</th>\n",
       "      <th>name</th>\n",
       "      <th>prefix</th>\n",
       "      <th>neo</th>\n",
       "      <th>pha</th>\n",
       "      <th>H</th>\n",
       "      <th>diameter</th>\n",
       "      <th>...</th>\n",
       "      <th>sigma_i</th>\n",
       "      <th>sigma_om</th>\n",
       "      <th>sigma_w</th>\n",
       "      <th>sigma_ma</th>\n",
       "      <th>sigma_ad</th>\n",
       "      <th>sigma_n</th>\n",
       "      <th>sigma_tp</th>\n",
       "      <th>sigma_per</th>\n",
       "      <th>class</th>\n",
       "      <th>rms</th>\n",
       "    </tr>\n",
       "  </thead>\n",
       "  <tbody>\n",
       "    <tr>\n",
       "      <th>958519</th>\n",
       "      <td>bPLS6013</td>\n",
       "      <td>3246801</td>\n",
       "      <td>(6013 P-L)</td>\n",
       "      <td>6013 P-L</td>\n",
       "      <td>NaN</td>\n",
       "      <td>NaN</td>\n",
       "      <td>N</td>\n",
       "      <td>N</td>\n",
       "      <td>17.135</td>\n",
       "      <td>NaN</td>\n",
       "      <td>...</td>\n",
       "      <td>6.969000</td>\n",
       "      <td>7.433000</td>\n",
       "      <td>46.311000</td>\n",
       "      <td>27.383000</td>\n",
       "      <td>1.041200e+00</td>\n",
       "      <td>1.652100e-01</td>\n",
       "      <td>130.970000</td>\n",
       "      <td>726.490000</td>\n",
       "      <td>MBA</td>\n",
       "      <td>0.23839</td>\n",
       "    </tr>\n",
       "    <tr>\n",
       "      <th>958520</th>\n",
       "      <td>bPLS6331</td>\n",
       "      <td>3246834</td>\n",
       "      <td>(6331 P-L)</td>\n",
       "      <td>6331 P-L</td>\n",
       "      <td>NaN</td>\n",
       "      <td>NaN</td>\n",
       "      <td>N</td>\n",
       "      <td>N</td>\n",
       "      <td>18.500</td>\n",
       "      <td>NaN</td>\n",
       "      <td>...</td>\n",
       "      <td>0.000016</td>\n",
       "      <td>0.000056</td>\n",
       "      <td>0.000238</td>\n",
       "      <td>0.000130</td>\n",
       "      <td>2.418900e-08</td>\n",
       "      <td>3.346100e-09</td>\n",
       "      <td>0.000469</td>\n",
       "      <td>0.000016</td>\n",
       "      <td>MBA</td>\n",
       "      <td>0.53633</td>\n",
       "    </tr>\n",
       "    <tr>\n",
       "      <th>958521</th>\n",
       "      <td>bPLS6344</td>\n",
       "      <td>3013075</td>\n",
       "      <td>(6344 P-L)</td>\n",
       "      <td>6344 P-L</td>\n",
       "      <td>NaN</td>\n",
       "      <td>NaN</td>\n",
       "      <td>Y</td>\n",
       "      <td>Y</td>\n",
       "      <td>20.400</td>\n",
       "      <td>NaN</td>\n",
       "      <td>...</td>\n",
       "      <td>0.000019</td>\n",
       "      <td>0.000057</td>\n",
       "      <td>0.000090</td>\n",
       "      <td>0.000053</td>\n",
       "      <td>1.650100e-07</td>\n",
       "      <td>1.101600e-08</td>\n",
       "      <td>0.000283</td>\n",
       "      <td>0.000091</td>\n",
       "      <td>APO</td>\n",
       "      <td>0.51556</td>\n",
       "    </tr>\n",
       "    <tr>\n",
       "      <th>958522</th>\n",
       "      <td>bT2S2060</td>\n",
       "      <td>3246457</td>\n",
       "      <td>(2060 T-2)</td>\n",
       "      <td>2060 T-2</td>\n",
       "      <td>NaN</td>\n",
       "      <td>NaN</td>\n",
       "      <td>N</td>\n",
       "      <td>N</td>\n",
       "      <td>18.071</td>\n",
       "      <td>NaN</td>\n",
       "      <td>...</td>\n",
       "      <td>0.544880</td>\n",
       "      <td>4.391600</td>\n",
       "      <td>18.988000</td>\n",
       "      <td>10.838000</td>\n",
       "      <td>7.171600e-01</td>\n",
       "      <td>1.016700e-01</td>\n",
       "      <td>38.984000</td>\n",
       "      <td>503.550000</td>\n",
       "      <td>MBA</td>\n",
       "      <td>0.25641</td>\n",
       "    </tr>\n",
       "    <tr>\n",
       "      <th>958523</th>\n",
       "      <td>bT3S2678</td>\n",
       "      <td>3246553</td>\n",
       "      <td>(2678 T-3)</td>\n",
       "      <td>2678 T-3</td>\n",
       "      <td>NaN</td>\n",
       "      <td>NaN</td>\n",
       "      <td>N</td>\n",
       "      <td>N</td>\n",
       "      <td>18.060</td>\n",
       "      <td>NaN</td>\n",
       "      <td>...</td>\n",
       "      <td>1.102300</td>\n",
       "      <td>0.311700</td>\n",
       "      <td>1.284300</td>\n",
       "      <td>0.473610</td>\n",
       "      <td>1.626700e-01</td>\n",
       "      <td>2.487900e-02</td>\n",
       "      <td>5.523600</td>\n",
       "      <td>106.480000</td>\n",
       "      <td>MBA</td>\n",
       "      <td>0.26980</td>\n",
       "    </tr>\n",
       "  </tbody>\n",
       "</table>\n",
       "<p>5 rows × 45 columns</p>\n",
       "</div>"
      ],
      "text/plain": [
       "              id    spkid          full_name      pdes name prefix neo pha  \\\n",
       "958519  bPLS6013  3246801         (6013 P-L)  6013 P-L  NaN    NaN   N   N   \n",
       "958520  bPLS6331  3246834         (6331 P-L)  6331 P-L  NaN    NaN   N   N   \n",
       "958521  bPLS6344  3013075         (6344 P-L)  6344 P-L  NaN    NaN   Y   Y   \n",
       "958522  bT2S2060  3246457         (2060 T-2)  2060 T-2  NaN    NaN   N   N   \n",
       "958523  bT3S2678  3246553         (2678 T-3)  2678 T-3  NaN    NaN   N   N   \n",
       "\n",
       "             H  diameter  ...   sigma_i  sigma_om    sigma_w   sigma_ma  \\\n",
       "958519  17.135       NaN  ...  6.969000  7.433000  46.311000  27.383000   \n",
       "958520  18.500       NaN  ...  0.000016  0.000056   0.000238   0.000130   \n",
       "958521  20.400       NaN  ...  0.000019  0.000057   0.000090   0.000053   \n",
       "958522  18.071       NaN  ...  0.544880  4.391600  18.988000  10.838000   \n",
       "958523  18.060       NaN  ...  1.102300  0.311700   1.284300   0.473610   \n",
       "\n",
       "            sigma_ad       sigma_n    sigma_tp   sigma_per  class      rms  \n",
       "958519  1.041200e+00  1.652100e-01  130.970000  726.490000    MBA  0.23839  \n",
       "958520  2.418900e-08  3.346100e-09    0.000469    0.000016    MBA  0.53633  \n",
       "958521  1.650100e-07  1.101600e-08    0.000283    0.000091    APO  0.51556  \n",
       "958522  7.171600e-01  1.016700e-01   38.984000  503.550000    MBA  0.25641  \n",
       "958523  1.626700e-01  2.487900e-02    5.523600  106.480000    MBA  0.26980  \n",
       "\n",
       "[5 rows x 45 columns]"
      ]
     },
     "execution_count": 7,
     "metadata": {},
     "output_type": "execute_result"
    }
   ],
   "source": [
    "data.tail()"
   ]
  },
  {
   "cell_type": "code",
   "execution_count": 8,
   "metadata": {
    "colab": {
     "base_uri": "https://localhost:8080/"
    },
    "id": "-hx5qIbhDVc4",
    "outputId": "fe910940-7d29-4e19-9fab-36942a61d04a"
   },
   "outputs": [
    {
     "name": "stdout",
     "output_type": "stream",
     "text": [
      "<class 'pandas.core.frame.DataFrame'>\n",
      "RangeIndex: 958524 entries, 0 to 958523\n",
      "Data columns (total 45 columns):\n",
      " #   Column          Non-Null Count   Dtype  \n",
      "---  ------          --------------   -----  \n",
      " 0   id              958524 non-null  object \n",
      " 1   spkid           958524 non-null  int64  \n",
      " 2   full_name       958524 non-null  object \n",
      " 3   pdes            958524 non-null  object \n",
      " 4   name            22064 non-null   object \n",
      " 5   prefix          18 non-null      object \n",
      " 6   neo             958520 non-null  object \n",
      " 7   pha             938603 non-null  object \n",
      " 8   H               952261 non-null  float64\n",
      " 9   diameter        136209 non-null  float64\n",
      " 10  albedo          135103 non-null  float64\n",
      " 11  diameter_sigma  136081 non-null  float64\n",
      " 12  orbit_id        958524 non-null  object \n",
      " 13  epoch           958524 non-null  float64\n",
      " 14  epoch_mjd       958524 non-null  int64  \n",
      " 15  epoch_cal       958524 non-null  float64\n",
      " 16  equinox         958524 non-null  object \n",
      " 17  e               958524 non-null  float64\n",
      " 18  a               958524 non-null  float64\n",
      " 19  q               958524 non-null  float64\n",
      " 20  i               958524 non-null  float64\n",
      " 21  om              958524 non-null  float64\n",
      " 22  w               958524 non-null  float64\n",
      " 23  ma              958523 non-null  float64\n",
      " 24  ad              958520 non-null  float64\n",
      " 25  n               958524 non-null  float64\n",
      " 26  tp              958524 non-null  float64\n",
      " 27  tp_cal          958524 non-null  float64\n",
      " 28  per             958520 non-null  float64\n",
      " 29  per_y           958523 non-null  float64\n",
      " 30  moid            938603 non-null  float64\n",
      " 31  moid_ld         958397 non-null  float64\n",
      " 32  sigma_e         938602 non-null  float64\n",
      " 33  sigma_a         938602 non-null  float64\n",
      " 34  sigma_q         938602 non-null  float64\n",
      " 35  sigma_i         938602 non-null  float64\n",
      " 36  sigma_om        938602 non-null  float64\n",
      " 37  sigma_w         938602 non-null  float64\n",
      " 38  sigma_ma        938602 non-null  float64\n",
      " 39  sigma_ad        938598 non-null  float64\n",
      " 40  sigma_n         938602 non-null  float64\n",
      " 41  sigma_tp        938602 non-null  float64\n",
      " 42  sigma_per       938598 non-null  float64\n",
      " 43  class           958524 non-null  object \n",
      " 44  rms             958522 non-null  float64\n",
      "dtypes: float64(33), int64(2), object(10)\n",
      "memory usage: 329.1+ MB\n"
     ]
    }
   ],
   "source": [
    "data.info()"
   ]
  },
  {
   "cell_type": "code",
   "execution_count": 9,
   "metadata": {
    "colab": {
     "base_uri": "https://localhost:8080/",
     "height": 349
    },
    "id": "L_sUQuWsf89l",
    "outputId": "c74c1937-5619-4604-aee1-92f951ea3bef"
   },
   "outputs": [
    {
     "data": {
      "text/html": [
       "<div>\n",
       "<style scoped>\n",
       "    .dataframe tbody tr th:only-of-type {\n",
       "        vertical-align: middle;\n",
       "    }\n",
       "\n",
       "    .dataframe tbody tr th {\n",
       "        vertical-align: top;\n",
       "    }\n",
       "\n",
       "    .dataframe thead th {\n",
       "        text-align: right;\n",
       "    }\n",
       "</style>\n",
       "<table border=\"1\" class=\"dataframe\">\n",
       "  <thead>\n",
       "    <tr style=\"text-align: right;\">\n",
       "      <th></th>\n",
       "      <th>spkid</th>\n",
       "      <th>H</th>\n",
       "      <th>diameter</th>\n",
       "      <th>albedo</th>\n",
       "      <th>diameter_sigma</th>\n",
       "      <th>epoch</th>\n",
       "      <th>epoch_mjd</th>\n",
       "      <th>epoch_cal</th>\n",
       "      <th>e</th>\n",
       "      <th>a</th>\n",
       "      <th>...</th>\n",
       "      <th>sigma_q</th>\n",
       "      <th>sigma_i</th>\n",
       "      <th>sigma_om</th>\n",
       "      <th>sigma_w</th>\n",
       "      <th>sigma_ma</th>\n",
       "      <th>sigma_ad</th>\n",
       "      <th>sigma_n</th>\n",
       "      <th>sigma_tp</th>\n",
       "      <th>sigma_per</th>\n",
       "      <th>rms</th>\n",
       "    </tr>\n",
       "  </thead>\n",
       "  <tbody>\n",
       "    <tr>\n",
       "      <th>count</th>\n",
       "      <td>9.585240e+05</td>\n",
       "      <td>952261.000000</td>\n",
       "      <td>136209.000000</td>\n",
       "      <td>135103.000000</td>\n",
       "      <td>136081.000000</td>\n",
       "      <td>9.585240e+05</td>\n",
       "      <td>958524.000000</td>\n",
       "      <td>9.585240e+05</td>\n",
       "      <td>958524.000000</td>\n",
       "      <td>958524.000000</td>\n",
       "      <td>...</td>\n",
       "      <td>9.386020e+05</td>\n",
       "      <td>9.386020e+05</td>\n",
       "      <td>9.386020e+05</td>\n",
       "      <td>9.386020e+05</td>\n",
       "      <td>9.386020e+05</td>\n",
       "      <td>9.385980e+05</td>\n",
       "      <td>9.386020e+05</td>\n",
       "      <td>9.386020e+05</td>\n",
       "      <td>9.385980e+05</td>\n",
       "      <td>958522.000000</td>\n",
       "    </tr>\n",
       "    <tr>\n",
       "      <th>mean</th>\n",
       "      <td>3.810114e+06</td>\n",
       "      <td>16.906411</td>\n",
       "      <td>5.506429</td>\n",
       "      <td>0.130627</td>\n",
       "      <td>0.479184</td>\n",
       "      <td>2.458869e+06</td>\n",
       "      <td>58868.781950</td>\n",
       "      <td>2.019693e+07</td>\n",
       "      <td>0.156116</td>\n",
       "      <td>2.902143</td>\n",
       "      <td>...</td>\n",
       "      <td>1.982929e+01</td>\n",
       "      <td>1.168449e+00</td>\n",
       "      <td>5.310234e+00</td>\n",
       "      <td>1.370062e+06</td>\n",
       "      <td>1.369977e+06</td>\n",
       "      <td>2.131453e+01</td>\n",
       "      <td>5.060221e-02</td>\n",
       "      <td>4.312780e+08</td>\n",
       "      <td>8.525815e+04</td>\n",
       "      <td>0.561153</td>\n",
       "    </tr>\n",
       "    <tr>\n",
       "      <th>std</th>\n",
       "      <td>6.831541e+06</td>\n",
       "      <td>1.790405</td>\n",
       "      <td>9.425164</td>\n",
       "      <td>0.110323</td>\n",
       "      <td>0.782895</td>\n",
       "      <td>7.016716e+02</td>\n",
       "      <td>701.671573</td>\n",
       "      <td>1.930354e+04</td>\n",
       "      <td>0.092643</td>\n",
       "      <td>39.719503</td>\n",
       "      <td>...</td>\n",
       "      <td>2.903785e+03</td>\n",
       "      <td>1.282231e+02</td>\n",
       "      <td>1.333381e+03</td>\n",
       "      <td>9.158996e+08</td>\n",
       "      <td>9.158991e+08</td>\n",
       "      <td>7.197034e+03</td>\n",
       "      <td>9.814953e+00</td>\n",
       "      <td>2.953046e+11</td>\n",
       "      <td>2.767681e+07</td>\n",
       "      <td>2.745700</td>\n",
       "    </tr>\n",
       "    <tr>\n",
       "      <th>min</th>\n",
       "      <td>2.000001e+06</td>\n",
       "      <td>-1.100000</td>\n",
       "      <td>0.002500</td>\n",
       "      <td>0.001000</td>\n",
       "      <td>0.000500</td>\n",
       "      <td>2.425052e+06</td>\n",
       "      <td>25051.000000</td>\n",
       "      <td>1.927062e+07</td>\n",
       "      <td>0.000000</td>\n",
       "      <td>-14702.447872</td>\n",
       "      <td>...</td>\n",
       "      <td>1.956900e-11</td>\n",
       "      <td>4.608900e-09</td>\n",
       "      <td>6.168800e-08</td>\n",
       "      <td>6.624800e-08</td>\n",
       "      <td>7.820700e-09</td>\n",
       "      <td>1.111300e-11</td>\n",
       "      <td>1.196500e-12</td>\n",
       "      <td>3.782900e-08</td>\n",
       "      <td>9.415900e-09</td>\n",
       "      <td>0.000000</td>\n",
       "    </tr>\n",
       "    <tr>\n",
       "      <th>25%</th>\n",
       "      <td>2.239632e+06</td>\n",
       "      <td>16.100000</td>\n",
       "      <td>2.780000</td>\n",
       "      <td>0.053000</td>\n",
       "      <td>0.180000</td>\n",
       "      <td>2.459000e+06</td>\n",
       "      <td>59000.000000</td>\n",
       "      <td>2.020053e+07</td>\n",
       "      <td>0.092193</td>\n",
       "      <td>2.387835</td>\n",
       "      <td>...</td>\n",
       "      <td>1.462000e-07</td>\n",
       "      <td>6.095900e-06</td>\n",
       "      <td>3.619400e-05</td>\n",
       "      <td>5.755000e-05</td>\n",
       "      <td>2.573700e-05</td>\n",
       "      <td>2.340900e-08</td>\n",
       "      <td>2.768800e-09</td>\n",
       "      <td>1.110900e-04</td>\n",
       "      <td>1.794500e-05</td>\n",
       "      <td>0.518040</td>\n",
       "    </tr>\n",
       "    <tr>\n",
       "      <th>50%</th>\n",
       "      <td>2.479262e+06</td>\n",
       "      <td>16.900000</td>\n",
       "      <td>3.972000</td>\n",
       "      <td>0.079000</td>\n",
       "      <td>0.332000</td>\n",
       "      <td>2.459000e+06</td>\n",
       "      <td>59000.000000</td>\n",
       "      <td>2.020053e+07</td>\n",
       "      <td>0.145002</td>\n",
       "      <td>2.646969</td>\n",
       "      <td>...</td>\n",
       "      <td>2.271900e-07</td>\n",
       "      <td>8.688800e-06</td>\n",
       "      <td>6.642550e-05</td>\n",
       "      <td>1.047100e-04</td>\n",
       "      <td>4.900100e-05</td>\n",
       "      <td>4.359000e-08</td>\n",
       "      <td>4.638000e-09</td>\n",
       "      <td>2.230800e-04</td>\n",
       "      <td>3.501700e-05</td>\n",
       "      <td>0.566280</td>\n",
       "    </tr>\n",
       "    <tr>\n",
       "      <th>75%</th>\n",
       "      <td>3.752518e+06</td>\n",
       "      <td>17.714000</td>\n",
       "      <td>5.765000</td>\n",
       "      <td>0.190000</td>\n",
       "      <td>0.620000</td>\n",
       "      <td>2.459000e+06</td>\n",
       "      <td>59000.000000</td>\n",
       "      <td>2.020053e+07</td>\n",
       "      <td>0.200650</td>\n",
       "      <td>3.001932</td>\n",
       "      <td>...</td>\n",
       "      <td>6.583200e-07</td>\n",
       "      <td>1.591500e-05</td>\n",
       "      <td>1.609775e-04</td>\n",
       "      <td>3.114400e-04</td>\n",
       "      <td>1.718900e-04</td>\n",
       "      <td>1.196600e-07</td>\n",
       "      <td>1.124000e-08</td>\n",
       "      <td>8.139600e-04</td>\n",
       "      <td>9.775475e-05</td>\n",
       "      <td>0.613927</td>\n",
       "    </tr>\n",
       "    <tr>\n",
       "      <th>max</th>\n",
       "      <td>5.401723e+07</td>\n",
       "      <td>33.200000</td>\n",
       "      <td>939.400000</td>\n",
       "      <td>1.000000</td>\n",
       "      <td>140.000000</td>\n",
       "      <td>2.459000e+06</td>\n",
       "      <td>59000.000000</td>\n",
       "      <td>2.020053e+07</td>\n",
       "      <td>1.855356</td>\n",
       "      <td>33488.895955</td>\n",
       "      <td>...</td>\n",
       "      <td>1.015000e+06</td>\n",
       "      <td>5.533000e+04</td>\n",
       "      <td>1.199100e+06</td>\n",
       "      <td>8.845100e+11</td>\n",
       "      <td>8.845100e+11</td>\n",
       "      <td>5.509700e+06</td>\n",
       "      <td>7.698800e+03</td>\n",
       "      <td>2.853100e+14</td>\n",
       "      <td>1.910700e+10</td>\n",
       "      <td>2686.600000</td>\n",
       "    </tr>\n",
       "  </tbody>\n",
       "</table>\n",
       "<p>8 rows × 35 columns</p>\n",
       "</div>"
      ],
      "text/plain": [
       "              spkid              H       diameter         albedo  \\\n",
       "count  9.585240e+05  952261.000000  136209.000000  135103.000000   \n",
       "mean   3.810114e+06      16.906411       5.506429       0.130627   \n",
       "std    6.831541e+06       1.790405       9.425164       0.110323   \n",
       "min    2.000001e+06      -1.100000       0.002500       0.001000   \n",
       "25%    2.239632e+06      16.100000       2.780000       0.053000   \n",
       "50%    2.479262e+06      16.900000       3.972000       0.079000   \n",
       "75%    3.752518e+06      17.714000       5.765000       0.190000   \n",
       "max    5.401723e+07      33.200000     939.400000       1.000000   \n",
       "\n",
       "       diameter_sigma         epoch      epoch_mjd     epoch_cal  \\\n",
       "count   136081.000000  9.585240e+05  958524.000000  9.585240e+05   \n",
       "mean         0.479184  2.458869e+06   58868.781950  2.019693e+07   \n",
       "std          0.782895  7.016716e+02     701.671573  1.930354e+04   \n",
       "min          0.000500  2.425052e+06   25051.000000  1.927062e+07   \n",
       "25%          0.180000  2.459000e+06   59000.000000  2.020053e+07   \n",
       "50%          0.332000  2.459000e+06   59000.000000  2.020053e+07   \n",
       "75%          0.620000  2.459000e+06   59000.000000  2.020053e+07   \n",
       "max        140.000000  2.459000e+06   59000.000000  2.020053e+07   \n",
       "\n",
       "                   e              a  ...       sigma_q       sigma_i  \\\n",
       "count  958524.000000  958524.000000  ...  9.386020e+05  9.386020e+05   \n",
       "mean        0.156116       2.902143  ...  1.982929e+01  1.168449e+00   \n",
       "std         0.092643      39.719503  ...  2.903785e+03  1.282231e+02   \n",
       "min         0.000000  -14702.447872  ...  1.956900e-11  4.608900e-09   \n",
       "25%         0.092193       2.387835  ...  1.462000e-07  6.095900e-06   \n",
       "50%         0.145002       2.646969  ...  2.271900e-07  8.688800e-06   \n",
       "75%         0.200650       3.001932  ...  6.583200e-07  1.591500e-05   \n",
       "max         1.855356   33488.895955  ...  1.015000e+06  5.533000e+04   \n",
       "\n",
       "           sigma_om       sigma_w      sigma_ma      sigma_ad       sigma_n  \\\n",
       "count  9.386020e+05  9.386020e+05  9.386020e+05  9.385980e+05  9.386020e+05   \n",
       "mean   5.310234e+00  1.370062e+06  1.369977e+06  2.131453e+01  5.060221e-02   \n",
       "std    1.333381e+03  9.158996e+08  9.158991e+08  7.197034e+03  9.814953e+00   \n",
       "min    6.168800e-08  6.624800e-08  7.820700e-09  1.111300e-11  1.196500e-12   \n",
       "25%    3.619400e-05  5.755000e-05  2.573700e-05  2.340900e-08  2.768800e-09   \n",
       "50%    6.642550e-05  1.047100e-04  4.900100e-05  4.359000e-08  4.638000e-09   \n",
       "75%    1.609775e-04  3.114400e-04  1.718900e-04  1.196600e-07  1.124000e-08   \n",
       "max    1.199100e+06  8.845100e+11  8.845100e+11  5.509700e+06  7.698800e+03   \n",
       "\n",
       "           sigma_tp     sigma_per            rms  \n",
       "count  9.386020e+05  9.385980e+05  958522.000000  \n",
       "mean   4.312780e+08  8.525815e+04       0.561153  \n",
       "std    2.953046e+11  2.767681e+07       2.745700  \n",
       "min    3.782900e-08  9.415900e-09       0.000000  \n",
       "25%    1.110900e-04  1.794500e-05       0.518040  \n",
       "50%    2.230800e-04  3.501700e-05       0.566280  \n",
       "75%    8.139600e-04  9.775475e-05       0.613927  \n",
       "max    2.853100e+14  1.910700e+10    2686.600000  \n",
       "\n",
       "[8 rows x 35 columns]"
      ]
     },
     "execution_count": 9,
     "metadata": {},
     "output_type": "execute_result"
    }
   ],
   "source": [
    "data.describe()"
   ]
  },
  {
   "cell_type": "code",
   "execution_count": 10,
   "metadata": {
    "colab": {
     "base_uri": "https://localhost:8080/"
    },
    "id": "4AN078IngCWh",
    "outputId": "170886cc-23e5-4f02-e9b5-53d3198a34b1"
   },
   "outputs": [
    {
     "data": {
      "text/plain": [
       "(958524, 45)"
      ]
     },
     "execution_count": 10,
     "metadata": {},
     "output_type": "execute_result"
    }
   ],
   "source": [
    "data.shape"
   ]
  },
  {
   "cell_type": "code",
   "execution_count": 11,
   "metadata": {
    "colab": {
     "base_uri": "https://localhost:8080/"
    },
    "id": "D7A63i6AgK89",
    "outputId": "de850262-1191-456a-cf4d-6925d3197638"
   },
   "outputs": [
    {
     "name": "stdout",
     "output_type": "stream",
     "text": [
      "958524\n",
      "958524\n",
      "958524\n",
      "958524\n"
     ]
    }
   ],
   "source": [
    "print(data['id'].nunique())\n",
    "print(data['spkid'].nunique())\n",
    "print(data['full_name'].nunique())\n",
    "print(data['pdes'].nunique())"
   ]
  },
  {
   "cell_type": "code",
   "execution_count": 12,
   "metadata": {
    "colab": {
     "base_uri": "https://localhost:8080/",
     "height": 178
    },
    "id": "724STPCHhHfG",
    "outputId": "629daae1-eb00-4766-8ad8-9208b229227b"
   },
   "outputs": [
    {
     "data": {
      "text/plain": [
       "pha\n",
       "N    99.779886\n",
       "Y     0.220114\n",
       "Name: proportion, dtype: float64"
      ]
     },
     "execution_count": 12,
     "metadata": {},
     "output_type": "execute_result"
    }
   ],
   "source": [
    "data['pha'].value_counts(normalize=True)*100    # PHA - potentially hazardous asteroids\n",
    "\n",
    "# It takes the total count of yes or now and normalises it or gives it as a percentage of yes and no"
   ]
  },
  {
   "cell_type": "code",
   "execution_count": 13,
   "metadata": {
    "colab": {
     "base_uri": "https://localhost:8080/",
     "height": 428
    },
    "id": "QvdqfhPxOi6y",
    "outputId": "7d998ac6-3159-41c1-c69d-10d73f6a53ff"
   },
   "outputs": [
    {
     "data": {
      "image/png": "[encoded data removed]",
      "text/plain": [
       "<Figure size 640x480 with 1 Axes>"
      ]
     },
     "metadata": {},
     "output_type": "display_data"
    }
   ],
   "source": [
    "pha_counts = data['pha'].value_counts(normalize=True) * 100\n",
    "\n",
    "plt.pie(pha_counts, labels=pha_counts.index)\n",
    "plt.title(\"Percentage of Potentially Hazardous Asteroids\")\n",
    "plt.show()"
   ]
  },
  {
   "cell_type": "code",
   "execution_count": 14,
   "metadata": {
    "colab": {
     "base_uri": "https://localhost:8080/",
     "height": 178
    },
    "id": "t_TurG6Ti1gV",
    "outputId": "0ebfdc29-1cb6-43fe-a9b6-f0cb89fcc6c3"
   },
   "outputs": [
    {
     "data": {
      "text/plain": [
       "neo\n",
       "N    97.611422\n",
       "Y     2.388578\n",
       "Name: proportion, dtype: float64"
      ]
     },
     "execution_count": 14,
     "metadata": {},
     "output_type": "execute_result"
    }
   ],
   "source": [
    "data['neo'].value_counts(normalize=True)*100    # NEO - near earth objects"
   ]
  },
  {
   "cell_type": "code",
   "execution_count": 15,
   "metadata": {
    "colab": {
     "base_uri": "https://localhost:8080/",
     "height": 428
    },
    "id": "_W_yVaUFPRBl",
    "outputId": "b700ccc1-dceb-4a33-e82f-d8468a1222b3"
   },
   "outputs": [
    {
     "data": {
      "image/png": "[encoded data removed]",
      "text/plain": [
       "<Figure size 640x480 with 1 Axes>"
      ]
     },
     "metadata": {},
     "output_type": "display_data"
    }
   ],
   "source": [
    "neo_counts = data['neo'].value_counts(normalize=True) * 100\n",
    "\n",
    "plt.pie(neo_counts, labels=neo_counts.index, autopct=\"%1.1f%%\")\n",
    "plt.title(\"Percentage of NEO\")\n",
    "plt.show()"
   ]
  },
  {
   "cell_type": "code",
   "execution_count": 16,
   "metadata": {
    "colab": {
     "base_uri": "https://localhost:8080/"
    },
    "id": "9ASXDuT7jUia",
    "outputId": "43963815-3429-4efe-f0b7-b5cd76944dfe"
   },
   "outputs": [
    {
     "name": "stdout",
     "output_type": "stream",
     "text": [
      "['JPL 47' 'JPL 37' 'JPL 112' ... 'E2020H77' 'E2020K86' 'E2020J48']\n",
      "4690\n"
     ]
    }
   ],
   "source": [
    "print(data['orbit_id'].unique())\n",
    "print(data['orbit_id'].nunique())\n",
    "#Names and counts of unique orbits"
   ]
  },
  {
   "cell_type": "code",
   "execution_count": 17,
   "metadata": {
    "colab": {
     "base_uri": "https://localhost:8080/"
    },
    "id": "YEzmb9rLjlhK",
    "outputId": "1c5d4e3e-57a8-4533-f6c2-c95b7e9416e0"
   },
   "outputs": [
    {
     "name": "stdout",
     "output_type": "stream",
     "text": [
      "[nan 'A']\n",
      "1\n"
     ]
    }
   ],
   "source": [
    "print(data['prefix'].unique())\n",
    "print(data['prefix'].nunique())\n",
    "# prefixes - to understand the type of asteroid"
   ]
  },
  {
   "cell_type": "code",
   "execution_count": 18,
   "metadata": {
    "colab": {
     "base_uri": "https://localhost:8080/"
    },
    "id": "hwNcrYTMDc3G",
    "outputId": "4bae6f46-11d1-4b5f-ff99-1ccf0721256f"
   },
   "outputs": [
    {
     "name": "stdout",
     "output_type": "stream",
     "text": [
      "['J2000']\n",
      "1\n"
     ]
    }
   ],
   "source": [
    "# equinox reference\n",
    "print(data['equinox'].unique())\n",
    "print(data['equinox'].nunique())"
   ]
  },
  {
   "cell_type": "code",
   "execution_count": 19,
   "metadata": {
    "colab": {
     "base_uri": "https://localhost:8080/"
    },
    "id": "AxdJ6QatD4L4",
    "outputId": "a636be30-f8da-44fa-9b29-5af437a11818"
   },
   "outputs": [
    {
     "name": "stdout",
     "output_type": "stream",
     "text": [
      "['MBA' 'OMB' 'MCA' 'AMO' 'IMB' 'TJN' 'CEN' 'APO' 'ATE' 'AST' 'TNO' 'IEO'\n",
      " 'HYA']\n",
      "13\n"
     ]
    }
   ],
   "source": [
    "# Orbit classification (Name and count)\n",
    "print(data['class'].unique())\n",
    "print(data['class'].nunique())"
   ]
  },
  {
   "cell_type": "code",
   "execution_count": 20,
   "metadata": {
    "id": "IAyTilMkD_A5"
   },
   "outputs": [],
   "source": [
    "data1 = data.drop(['id', 'pdes', 'name', 'prefix', 'equinox'], axis='columns', inplace=False)\n",
    "\n",
    "#The following columns do not give us fruitful info and so are dropped\n",
    "#id, spkid, pdes, name are unique to every asteroid\n",
    "#(Full name is divided as pdes and name)"
   ]
  },
  {
   "cell_type": "markdown",
   "metadata": {
    "id": "U4fJpklGRx9l"
   },
   "source": [
    "\n",
    "\n",
    "---\n",
    "\n"
   ]
  },
  {
   "cell_type": "markdown",
   "metadata": {
    "id": "eLRYUNlKEVwa"
   },
   "source": [
    "DATA WRANGLING"
   ]
  },
  {
   "cell_type": "code",
   "execution_count": 21,
   "metadata": {
    "colab": {
     "base_uri": "https://localhost:8080/",
     "height": 662
    },
    "id": "N-klJqd3Ybkj",
    "outputId": "3afd1d6e-6c55-4c6c-acd8-27977278b5c6"
   },
   "outputs": [
    {
     "data": {
      "image/png": "[encoded data removed]",
      "text/plain": [
       "<Figure size 800x600 with 1 Axes>"
      ]
     },
     "metadata": {},
     "output_type": "display_data"
    }
   ],
   "source": [
    "null_flags = data.isnull().sum()\n",
    "plt.figure(figsize=(8, 6))\n",
    "plt.bar(null_flags.index, null_flags.values)\n",
    "plt.xlabel(\"Column Names\")\n",
    "plt.ylabel(\"Has Null Values (1) or Not (0)\")\n",
    "plt.title(\"Distribution of Null Values in DataFrame\")\n",
    "plt.xticks(rotation=90, ha=\"right\")\n",
    "plt.show()\n",
    "\n",
    "#To get an idea of the columns that have a lot of null values"
   ]
  },
  {
   "cell_type": "code",
   "execution_count": 22,
   "metadata": {
    "colab": {
     "base_uri": "https://localhost:8080/"
    },
    "id": "W_E68clNEftk",
    "outputId": "28e206b1-cf74-42cf-c5a7-485a04ba977f"
   },
   "outputs": [
    {
     "name": "stdout",
     "output_type": "stream",
     "text": [
      "diameter          822315\n",
      "albedo            823421\n",
      "diameter_sigma    822443\n",
      "dtype: int64\n"
     ]
    }
   ],
   "source": [
    "missing_values = data1[['diameter', 'albedo', 'diameter_sigma']].isnull().sum()\n",
    "print(missing_values)\n",
    "# This leaves us to about only 130000 rows with values in them\n",
    "# This is only about 14% of the dataset, and thus we drop these columns"
   ]
  },
  {
   "cell_type": "code",
   "execution_count": 23,
   "metadata": {
    "id": "uuXnj07dStK3"
   },
   "outputs": [],
   "source": [
    "asteroid_df = data1[data1['pha'].notna()]\n",
    "asteroid_df = asteroid_df.drop(['diameter', 'albedo', 'diameter_sigma'], axis= 'columns')\n",
    "# In the dataset, \"pha\" is the most important column\n",
    "# (Since it tells us if an asteroid is poentially hazardous or not)"
   ]
  },
  {
   "cell_type": "code",
   "execution_count": 24,
   "metadata": {
    "colab": {
     "base_uri": "https://localhost:8080/"
    },
    "id": "zVLZ2BMML62v",
    "outputId": "a85916ee-1108-4655-d0a7-74793126c10d"
   },
   "outputs": [
    {
     "name": "stdout",
     "output_type": "stream",
     "text": [
      "Number of rows: 958524\n",
      "Number of columns: 45\n",
      "spkid           0\n",
      "full_name       0\n",
      "neo             4\n",
      "pha             0\n",
      "H            6262\n",
      "orbit_id        0\n",
      "epoch           0\n",
      "epoch_mjd       0\n",
      "epoch_cal       0\n",
      "e               0\n",
      "a               0\n",
      "q               0\n",
      "i               0\n",
      "om              0\n",
      "w               0\n",
      "ma              1\n",
      "ad              4\n",
      "n               0\n",
      "tp              0\n",
      "tp_cal          0\n",
      "per             4\n",
      "per_y           1\n",
      "moid            0\n",
      "moid_ld         0\n",
      "sigma_e         1\n",
      "sigma_a         1\n",
      "sigma_q         1\n",
      "sigma_i         1\n",
      "sigma_om        1\n",
      "sigma_w         1\n",
      "sigma_ma        1\n",
      "sigma_ad        5\n",
      "sigma_n         1\n",
      "sigma_tp        1\n",
      "sigma_per       5\n",
      "class           0\n",
      "rms             1\n",
      "dtype: int64\n"
     ]
    }
   ],
   "source": [
    "num_rows, num_cols = data.shape\n",
    "print(\"Number of rows:\", num_rows)\n",
    "print(\"Number of columns:\", num_cols)\n",
    "\n",
    "null_count = asteroid_df.isnull().sum()\n",
    "print(null_count)\n"
   ]
  },
  {
   "cell_type": "code",
   "execution_count": 25,
   "metadata": {
    "colab": {
     "base_uri": "https://localhost:8080/"
    },
    "id": "bgdNmZHcK8dr",
    "outputId": "9362fa93-4d4f-4614-c768-8b5da5ee9696"
   },
   "outputs": [
    {
     "name": "stdout",
     "output_type": "stream",
     "text": [
      "          spkid          full_name neo pha       H orbit_id      epoch  \\\n",
      "0       2000001            1 Ceres   N   N   3.400   JPL 47  2458600.5   \n",
      "1       2000002           2 Pallas   N   N   4.200   JPL 37  2459000.5   \n",
      "2       2000003             3 Juno   N   N   5.330  JPL 112  2459000.5   \n",
      "3       2000004            4 Vesta   N   N   3.000   JPL 35  2458600.5   \n",
      "4       2000005          5 Astraea   N   N   6.900  JPL 114  2459000.5   \n",
      "...         ...                ...  ..  ..     ...      ...        ...   \n",
      "958519  3246801         (6013 P-L)   N   N  17.135    JPL 5  2437203.5   \n",
      "958520  3246834         (6331 P-L)   N   N  18.500        8  2459000.5   \n",
      "958521  3013075         (6344 P-L)   Y   Y  20.400       17  2459000.5   \n",
      "958522  3246457         (2060 T-2)   N   N  18.071    JPL 3  2441956.5   \n",
      "958523  3246553         (2678 T-3)   N   N  18.060    JPL 3  2443429.5   \n",
      "\n",
      "        epoch_mjd   epoch_cal         e  ...       sigma_i      sigma_om  \\\n",
      "0           58600  20190427.0  0.076009  ...  4.608900e-09  6.168800e-08   \n",
      "1           59000  20200531.0  0.229972  ...  3.469400e-06  6.272400e-06   \n",
      "2           59000  20200531.0  0.256936  ...  3.223100e-06  1.664600e-05   \n",
      "3           58600  20190427.0  0.088721  ...  2.170600e-07  3.880800e-07   \n",
      "4           59000  20200531.0  0.190913  ...  2.740800e-06  2.894900e-05   \n",
      "...           ...         ...       ...  ...           ...           ...   \n",
      "958519      37203  19600926.0  0.185919  ...  6.969000e+00  7.433000e+00   \n",
      "958520      59000  20200531.0  0.282920  ...  1.563500e-05  5.598600e-05   \n",
      "958521      59000  20200531.0  0.662446  ...  1.853300e-05  5.691700e-05   \n",
      "958522      41956  19731001.0  0.202053  ...  5.448800e-01  4.391600e+00   \n",
      "958523      43429  19771013.0  0.258348  ...  1.102300e+00  3.117000e-01   \n",
      "\n",
      "             sigma_w      sigma_ma      sigma_ad       sigma_n      sigma_tp  \\\n",
      "0       6.624800e-08  7.820700e-09  1.111300e-11  1.196500e-12  3.782900e-08   \n",
      "1       9.128200e-06  8.859100e-06  4.961300e-09  4.653600e-10  4.078700e-05   \n",
      "2       1.772100e-05  8.110400e-06  4.363900e-09  4.413400e-10  3.528800e-05   \n",
      "3       1.789300e-07  1.206800e-06  1.648600e-09  2.612500e-10  4.103700e-06   \n",
      "4       2.984200e-05  8.303800e-06  4.729000e-09  5.522700e-10  3.474300e-05   \n",
      "...              ...           ...           ...           ...           ...   \n",
      "958519  4.631100e+01  2.738300e+01  1.041200e+00  1.652100e-01  1.309700e+02   \n",
      "958520  2.380400e-04  1.298200e-04  2.418900e-08  3.346100e-09  4.690200e-04   \n",
      "958521  8.969200e-05  5.272600e-05  1.650100e-07  1.101600e-08  2.830600e-04   \n",
      "958522  1.898800e+01  1.083800e+01  7.171600e-01  1.016700e-01  3.898400e+01   \n",
      "958523  1.284300e+00  4.736100e-01  1.626700e-01  2.487900e-02  5.523600e+00   \n",
      "\n",
      "           sigma_per  class      rms  \n",
      "0       9.415900e-09    MBA  0.43301  \n",
      "1       3.680700e-06    MBA  0.35936  \n",
      "2       3.107200e-06    MBA  0.33848  \n",
      "3       1.274900e-06    MBA  0.39980  \n",
      "4       3.490500e-06    MBA  0.52191  \n",
      "...              ...    ...      ...  \n",
      "958519  7.264900e+02    MBA  0.23839  \n",
      "958520  1.578500e-05    MBA  0.53633  \n",
      "958521  9.127500e-05    APO  0.51556  \n",
      "958522  5.035500e+02    MBA  0.25641  \n",
      "958523  1.064800e+02    MBA  0.26980  \n",
      "\n",
      "[932335 rows x 37 columns]\n"
     ]
    }
   ],
   "source": [
    "asteroid_df = asteroid_df[asteroid_df['H'].notna()]\n",
    "asteroid_df = asteroid_df[asteroid_df['sigma_ad'].notna()]\n",
    "asteroid_df = asteroid_df[asteroid_df['ma'].notna()]\n",
    "print(asteroid_df)\n",
    "# Removing rows that have a lot of null values\n",
    "# Deleting rows with many missing values is better than filling them inaccurately."
   ]
  },
  {
   "cell_type": "code",
   "execution_count": 26,
   "metadata": {
    "id": "Dib_ojUyLxDS"
   },
   "outputs": [],
   "source": [
    "asteroid_df['neo'] = asteroid_df['neo'].astype('category')\n",
    "asteroid_df['pha'] = asteroid_df['pha'].astype('category')\n",
    "asteroid_df['class'] = asteroid_df['class'].astype('category')\n",
    "# Converting these columns into category datatype (y or n) for simplicity"
   ]
  },
  {
   "cell_type": "code",
   "execution_count": 27,
   "metadata": {
    "colab": {
     "base_uri": "https://localhost:8080/",
     "height": 178
    },
    "id": "pUd9Mn6IOToi",
    "outputId": "024c0c73-7abb-4307-9fd5-d74a4f173fe5"
   },
   "outputs": [
    {
     "data": {
      "text/plain": [
       "neo\n",
       "N    97.545625\n",
       "Y     2.454375\n",
       "Name: proportion, dtype: float64"
      ]
     },
     "execution_count": 27,
     "metadata": {},
     "output_type": "execute_result"
    }
   ],
   "source": [
    "asteroid_df['neo'].value_counts(normalize=True)*100"
   ]
  },
  {
   "cell_type": "code",
   "execution_count": 28,
   "metadata": {
    "colab": {
     "base_uri": "https://localhost:8080/",
     "height": 178
    },
    "id": "95RrwIeJVzJE",
    "outputId": "284ed9df-6291-4f47-f336-1541c3e57de9"
   },
   "outputs": [
    {
     "data": {
      "text/plain": [
       "pha\n",
       "N    99.778406\n",
       "Y     0.221594\n",
       "Name: proportion, dtype: float64"
      ]
     },
     "execution_count": 28,
     "metadata": {},
     "output_type": "execute_result"
    }
   ],
   "source": [
    "asteroid_df['pha'].value_counts(normalize=True)*100"
   ]
  },
  {
   "cell_type": "code",
   "execution_count": 29,
   "metadata": {
    "colab": {
     "base_uri": "https://localhost:8080/"
    },
    "id": "iVNB34aZOplE",
    "outputId": "d5de0e09-9c27-4f53-f1de-88dab7028873"
   },
   "outputs": [
    {
     "name": "stdout",
     "output_type": "stream",
     "text": [
      "pha\n",
      "N    90.971464\n",
      "Y     9.028536\n",
      "Name: proportion, dtype: float64\n"
     ]
    }
   ],
   "source": [
    "# out of the neo's, how many are pha?\n",
    "neo_which_are_pha = asteroid_df[asteroid_df['neo']=='Y']['pha']\n",
    "percentages = neo_which_are_pha.value_counts(normalize=True)*100\n",
    "print(percentages)"
   ]
  },
  {
   "cell_type": "code",
   "execution_count": 30,
   "metadata": {
    "colab": {
     "base_uri": "https://localhost:8080/"
    },
    "id": "iIHaz1DbVt7l",
    "outputId": "8d85a375-1551-4706-8e7b-0f979f55c0ac"
   },
   "outputs": [
    {
     "name": "stdout",
     "output_type": "stream",
     "text": [
      "neo\n",
      "Y    100.0\n",
      "N      0.0\n",
      "Name: proportion, dtype: float64\n"
     ]
    }
   ],
   "source": [
    "# out of the pha's, how many are neo?\n",
    "pha_which_are_neo = asteroid_df[asteroid_df['pha']=='Y']['neo']\n",
    "percentages = pha_which_are_neo.value_counts(normalize=True)*100\n",
    "print(percentages)\n",
    "\n",
    "#The output tells us that all potentially hazardous asteroids are also near earth objects"
   ]
  },
  {
   "cell_type": "code",
   "execution_count": 31,
   "metadata": {
    "colab": {
     "base_uri": "https://localhost:8080/",
     "height": 491
    },
    "id": "8Rs6BTVkWuyX",
    "outputId": "b55fd011-bde5-486a-857e-820152854298"
   },
   "outputs": [
    {
     "data": {
      "text/plain": [
       "class\n",
       "MBA    89.308028\n",
       "OMB     2.914189\n",
       "IMB     2.113189\n",
       "MCA     1.908005\n",
       "APO     1.360455\n",
       "AMO     0.906112\n",
       "TJN     0.871146\n",
       "TNO     0.371004\n",
       "ATE     0.185448\n",
       "CEN     0.053951\n",
       "AST     0.006114\n",
       "IEO     0.002360\n",
       "Name: proportion, dtype: float64"
      ]
     },
     "execution_count": 31,
     "metadata": {},
     "output_type": "execute_result"
    }
   ],
   "source": [
    "# Orbit types distribution\n",
    "asteroid_df['class'].value_counts(normalize=True)*100"
   ]
  },
  {
   "cell_type": "code",
   "execution_count": 32,
   "metadata": {
    "colab": {
     "base_uri": "https://localhost:8080/",
     "height": 428
    },
    "id": "Bto432fzdO2l",
    "outputId": "201b902a-3d42-42fc-8210-3ece6824a4fb"
   },
   "outputs": [
    {
     "data": {
      "image/png": "[encoded data removed]",
      "text/plain": [
       "<Figure size 640x480 with 1 Axes>"
      ]
     },
     "metadata": {},
     "output_type": "display_data"
    }
   ],
   "source": [
    "class_counts = asteroid_df['class'].value_counts(normalize=True) * 100\n",
    "plt.pie(class_counts, labels=class_counts.index, autopct=\"%1.1f%%\")\n",
    "plt.title(\"Distribution of Asteroid Orbit Types\")\n",
    "plt.show()"
   ]
  },
  {
   "cell_type": "code",
   "execution_count": 33,
   "metadata": {
    "colab": {
     "base_uri": "https://localhost:8080/"
    },
    "id": "3TMw-TpRYK7s",
    "outputId": "fc050865-5b55-4014-9f21-1604040ffb77"
   },
   "outputs": [
    {
     "data": {
      "text/plain": [
       "525"
      ]
     },
     "execution_count": 33,
     "metadata": {},
     "output_type": "execute_result"
    }
   ],
   "source": [
    "# how many orbit ids exist?\n",
    "asteroid_df['orbit_id'].nunique()"
   ]
  },
  {
   "cell_type": "code",
   "execution_count": 34,
   "metadata": {
    "colab": {
     "base_uri": "https://localhost:8080/"
    },
    "id": "saZPSizug7Ax",
    "outputId": "7224b7c4-ad34-405d-b5c0-3fdfcacd514e"
   },
   "outputs": [
    {
     "name": "stdout",
     "output_type": "stream",
     "text": [
      "<class 'pandas.core.frame.DataFrame'>\n",
      "Index: 932335 entries, 0 to 958523\n",
      "Data columns (total 37 columns):\n",
      " #   Column     Non-Null Count   Dtype   \n",
      "---  ------     --------------   -----   \n",
      " 0   spkid      932335 non-null  int64   \n",
      " 1   full_name  932335 non-null  object  \n",
      " 2   neo        932335 non-null  category\n",
      " 3   pha        932335 non-null  category\n",
      " 4   H          932335 non-null  float64 \n",
      " 5   orbit_id   932335 non-null  object  \n",
      " 6   epoch      932335 non-null  float64 \n",
      " 7   epoch_mjd  932335 non-null  int64   \n",
      " 8   epoch_cal  932335 non-null  float64 \n",
      " 9   e          932335 non-null  float64 \n",
      " 10  a          932335 non-null  float64 \n",
      " 11  q          932335 non-null  float64 \n",
      " 12  i          932335 non-null  float64 \n",
      " 13  om         932335 non-null  float64 \n",
      " 14  w          932335 non-null  float64 \n",
      " 15  ma         932335 non-null  float64 \n",
      " 16  ad         932335 non-null  float64 \n",
      " 17  n          932335 non-null  float64 \n",
      " 18  tp         932335 non-null  float64 \n",
      " 19  tp_cal     932335 non-null  float64 \n",
      " 20  per        932335 non-null  float64 \n",
      " 21  per_y      932335 non-null  float64 \n",
      " 22  moid       932335 non-null  float64 \n",
      " 23  moid_ld    932335 non-null  float64 \n",
      " 24  sigma_e    932335 non-null  float64 \n",
      " 25  sigma_a    932335 non-null  float64 \n",
      " 26  sigma_q    932335 non-null  float64 \n",
      " 27  sigma_i    932335 non-null  float64 \n",
      " 28  sigma_om   932335 non-null  float64 \n",
      " 29  sigma_w    932335 non-null  float64 \n",
      " 30  sigma_ma   932335 non-null  float64 \n",
      " 31  sigma_ad   932335 non-null  float64 \n",
      " 32  sigma_n    932335 non-null  float64 \n",
      " 33  sigma_tp   932335 non-null  float64 \n",
      " 34  sigma_per  932335 non-null  float64 \n",
      " 35  class      932335 non-null  category\n",
      " 36  rms        932335 non-null  float64 \n",
      "dtypes: category(3), float64(30), int64(2), object(2)\n",
      "memory usage: 251.6+ MB\n"
     ]
    }
   ],
   "source": [
    "asteroid_df.info()"
   ]
  },
  {
   "cell_type": "markdown",
   "metadata": {
    "id": "fBFwDj6Y-5o2"
   },
   "source": [
    "DATA PREPROCESSING"
   ]
  },
  {
   "cell_type": "code",
   "execution_count": 35,
   "metadata": {
    "colab": {
     "base_uri": "https://localhost:8080/"
    },
    "id": "bIFza1ggYuXF",
    "outputId": "93d82a59-4888-4656-a0d1-fca165c622f4"
   },
   "outputs": [
    {
     "name": "stdout",
     "output_type": "stream",
     "text": [
      "The number of unique orbits that exst are :  525\n",
      "['100', 'JPL 90', '92', 'JPL 92', 'JPL 101', '110', 'JPL 121', 'JPL 89', 'JPL 114', 'JPL 104', '111', 'JPL 124', '78', '107', '96', 'JPL 112', 'JPL 85', '79', '84', '105', 'JPL 125', 'JPL 115', '93', '120', 'JPL 88', '97', 'JPL 126', 'JPL 119', '166', '147', '149', '106', '115', 'JPL 120', '128', 'JPL 111', '125', 'JPL 123', '137', 'JPL 233', '124', 'JPL 130', '90', '122', '161', 'JPL 145', 'JPL 143', '118', 'JPL 116', '116', 'JPL 93', '108', 'JPL 122', 'JPL 95', 'JPL 195', '146', 'JPL 134', 'JPL 127', '113', '127', '109', '221', 'JPL 197', '135', 'JPL 148', 'JPL 155', '98', 'JPL 109', 'JPL 161', 'JPL 118', '185', '121', '102', 'JPL 144', '153', 'JPL 147', '134', 'JPL 142', '114', '141', '133', '190', '129', 'JPL 128', '131', 'JPL 199', 'JPL 157', '117', '151', '212', '178', '142', 'JPL 263', 'JPL 132', '119', 'JPL 136', '136', 'JPL 182', '173', 'JPL 129', '123', 'JPL 160', '112', 'JPL 158', '165', 'JPL 282', '280', '187', 'JPL 139', '143', 'JPL 152', '155', '159', 'JPL 213', 'JPL 245', '177', 'JPL 135', 'JPL 149', 'JPL 251', 'JPL 286', 'JPL 168', 'JPL 151', '138', 'JPL 156', 'JPL 138', '206', 'JPL 220', 'JPL 214', 'JPL 137', 'JPL 131', 'JPL 437', 'JPL 177', 'JPL 235', '144', '256', 'JPL 181', '207', '152', '168', '237', 'JPL 444', 'JPL 219', 'JPL 218', '139', '170', '145', 'JPL 159', 'JPL 183', 'JPL 140', 'JPL 298', 'JPL 255', 'JPL 201', 'JPL 262', 'JPL 178', '216', 'JPL 228', 'JPL 184', '215', '222', 'JPL 292', '130', 'JPL 242', 'JPL 167', '172', 'JPL 198', 'JPL 304', 'JPL 186', '199', 'JPL 153', 'JPL 169', '180', 'JPL 221', 'JPL 306', '205', 'JPL 164', 'JPL 274', '179', '209', '311', 'JPL 308', '360', '191', '232', 'JPL 212', '218', 'JPL 113', '204', 'JPL 163', 'JPL 447', '253', '230', 'JPL 1000', 'JPL 272', '214', 'JPL 171', '229', 'JPL 247', '656', '247', '313', 'JPL 154', 'JPL 541', 'JPL 348', '442', 'JPL 200', '309', 'JPL 392', 'JPL 211', 'JPL 133', 'JPL 704', '140', '231', 'JPL 609', 'JPL 150', 'JPL 180', '197', '248', 'JPL 377', 'JPL 173', 'JPL 371', 'JPL 303', 'JPL 204', 'JPL 321', '238', 'JPL 340', 'JPL 203', '163', '160', '220', 'JPL 289', 'JPL 367', '223', '194', '176', 'JPL 253', 'JPL 209', '239', '241', '783', 'JPL 165', '219', 'JPL 581', '158', 'JPL 194', 'JPL 172', 'JPL 310', '712', '501', 'JPL 250', '235', 'JPL 222', '150', '260', 'JPL 226', 'JPL 480', '255', 'JPL 202', 'JPL 268', 'JPL 305', 'JPL 290', '446', '211', 'JPL 166', '243', 'JPL 185', '393', '453', '183', '456', '200', 'JPL 411', 'JPL 350', '195', '294', 'JPL 406', '210', 'JPL 312', '184', '559', 'JPL 527', '167', 'JPL 287', 'JPL 489', '418', 'JPL 191', 'JPL 323', '188', '164', 'JPL 528', 'JPL 237', 'JPL 483', '406', 'JPL 229', '132', '250', '157', '333', 'JPL 249', '193', 'JPL 146', 'JPL 238', '233', 'JPL 179', 'JPL 260', '324', 'JPL 473', 'JPL 307', 'JPL 273', 'JPL 453', '489', '383', 'JPL 257', 'JPL 276', '510', 'JPL 449', 'JPL 224', 'JPL 205', '371', 'JPL 176', 'JPL 319', 'JPL 192', 'JPL 353', 'JPL 248', '192', 'JPL 216', '240', 'JPL 520', 'JPL 373', 'JPL 428', '303', 'JPL 187']\n"
     ]
    },
    {
     "data": {
      "text/plain": [
       "331"
      ]
     },
     "execution_count": 35,
     "metadata": {},
     "output_type": "execute_result"
    }
   ],
   "source": [
    "unique_orbits = asteroid_df['orbit_id'].unique()\n",
    "print(\"The number of unique orbits that exst are : \",len(unique_orbits))\n",
    "\n",
    "orbits = asteroid_df['orbit_id'].value_counts().loc[lambda x: x<10].index.to_list()\n",
    "print(orbits)\n",
    "len(orbits)\n",
    "\n",
    "# the loc lambda x<10 filters the series to include only the rows where the count is less than 10\n",
    "# the index.tolist() to convert the index of the filtered series into a list"
   ]
  },
  {
   "cell_type": "code",
   "execution_count": 36,
   "metadata": {
    "id": "_7X6Hx-G57cf"
   },
   "outputs": [],
   "source": [
    "# the above output means that there are 331 orbit ids that occour less than 10 times\n",
    "\n",
    "#These are to be considered as outliers and will be used to investigate on rare cases and anomalies"
   ]
  },
  {
   "cell_type": "code",
   "execution_count": 37,
   "metadata": {
    "id": "EzZVZg-L8DCk"
   },
   "outputs": [],
   "source": [
    "asteroid_df = asteroid_df.reset_index(drop=True)"
   ]
  },
  {
   "cell_type": "code",
   "execution_count": 38,
   "metadata": {
    "colab": {
     "base_uri": "https://localhost:8080/"
    },
    "id": "W2v7tk9b_3yS",
    "outputId": "1394ee67-5d3d-4a52-9e19-9b9aed98fd5d"
   },
   "outputs": [
    {
     "data": {
      "text/plain": [
       "(932335, 31)"
      ]
     },
     "execution_count": 38,
     "metadata": {},
     "output_type": "execute_result"
    }
   ],
   "source": [
    "# Creating a subset of only numerical columns to scale\n",
    "subset_df = asteroid_df[asteroid_df.columns[~asteroid_df.columns.isin(['spkid', 'full_name', 'neo', 'pha', 'orbit_id', 'class'])]]\n",
    "# ml algos might need values of same datatype\n",
    "subset_df.shape"
   ]
  },
  {
   "cell_type": "code",
   "execution_count": 39,
   "metadata": {
    "colab": {
     "base_uri": "https://localhost:8080/",
     "height": 255
    },
    "id": "mTxjb1FaB6mC",
    "outputId": "02abe36d-1d8d-4448-94ca-a34a1be0f215"
   },
   "outputs": [
    {
     "data": {
      "text/html": [
       "<div>\n",
       "<style scoped>\n",
       "    .dataframe tbody tr th:only-of-type {\n",
       "        vertical-align: middle;\n",
       "    }\n",
       "\n",
       "    .dataframe tbody tr th {\n",
       "        vertical-align: top;\n",
       "    }\n",
       "\n",
       "    .dataframe thead th {\n",
       "        text-align: right;\n",
       "    }\n",
       "</style>\n",
       "<table border=\"1\" class=\"dataframe\">\n",
       "  <thead>\n",
       "    <tr style=\"text-align: right;\">\n",
       "      <th></th>\n",
       "      <th>H</th>\n",
       "      <th>epoch</th>\n",
       "      <th>epoch_mjd</th>\n",
       "      <th>epoch_cal</th>\n",
       "      <th>e</th>\n",
       "      <th>a</th>\n",
       "      <th>q</th>\n",
       "      <th>i</th>\n",
       "      <th>om</th>\n",
       "      <th>w</th>\n",
       "      <th>...</th>\n",
       "      <th>sigma_q</th>\n",
       "      <th>sigma_i</th>\n",
       "      <th>sigma_om</th>\n",
       "      <th>sigma_w</th>\n",
       "      <th>sigma_ma</th>\n",
       "      <th>sigma_ad</th>\n",
       "      <th>sigma_n</th>\n",
       "      <th>sigma_tp</th>\n",
       "      <th>sigma_per</th>\n",
       "      <th>rms</th>\n",
       "    </tr>\n",
       "  </thead>\n",
       "  <tbody>\n",
       "    <tr>\n",
       "      <th>0</th>\n",
       "      <td>0.131195</td>\n",
       "      <td>0.988218</td>\n",
       "      <td>0.988218</td>\n",
       "      <td>0.989134</td>\n",
       "      <td>0.076017</td>\n",
       "      <td>0.000066</td>\n",
       "      <td>0.030975</td>\n",
       "      <td>0.060467</td>\n",
       "      <td>0.223071</td>\n",
       "      <td>0.204438</td>\n",
       "      <td>...</td>\n",
       "      <td>0.000000e+00</td>\n",
       "      <td>0.000000e+00</td>\n",
       "      <td>0.000000e+00</td>\n",
       "      <td>0.000000e+00</td>\n",
       "      <td>0.000000e+00</td>\n",
       "      <td>0.000000e+00</td>\n",
       "      <td>0.000000e+00</td>\n",
       "      <td>0.000000e+00</td>\n",
       "      <td>0.000000e+00</td>\n",
       "      <td>0.000161</td>\n",
       "    </tr>\n",
       "    <tr>\n",
       "      <th>1</th>\n",
       "      <td>0.154519</td>\n",
       "      <td>1.000000</td>\n",
       "      <td>1.000000</td>\n",
       "      <td>1.000000</td>\n",
       "      <td>0.230004</td>\n",
       "      <td>0.000066</td>\n",
       "      <td>0.025712</td>\n",
       "      <td>0.198916</td>\n",
       "      <td>0.480625</td>\n",
       "      <td>0.861674</td>\n",
       "      <td>...</td>\n",
       "      <td>8.699747e-14</td>\n",
       "      <td>6.262048e-11</td>\n",
       "      <td>5.179478e-12</td>\n",
       "      <td>2.713159e-16</td>\n",
       "      <td>2.650639e-16</td>\n",
       "      <td>8.984495e-16</td>\n",
       "      <td>6.029037e-14</td>\n",
       "      <td>3.912546e-18</td>\n",
       "      <td>1.921434e-16</td>\n",
       "      <td>0.000134</td>\n",
       "    </tr>\n",
       "    <tr>\n",
       "      <th>2</th>\n",
       "      <td>0.187464</td>\n",
       "      <td>1.000000</td>\n",
       "      <td>1.000000</td>\n",
       "      <td>1.000000</td>\n",
       "      <td>0.256972</td>\n",
       "      <td>0.000063</td>\n",
       "      <td>0.023805</td>\n",
       "      <td>0.074158</td>\n",
       "      <td>0.471810</td>\n",
       "      <td>0.689073</td>\n",
       "      <td>...</td>\n",
       "      <td>8.016988e-14</td>\n",
       "      <td>5.816901e-11</td>\n",
       "      <td>1.383063e-11</td>\n",
       "      <td>5.285854e-16</td>\n",
       "      <td>2.426430e-16</td>\n",
       "      <td>7.900225e-16</td>\n",
       "      <td>5.717040e-14</td>\n",
       "      <td>3.384558e-18</td>\n",
       "      <td>1.621282e-16</td>\n",
       "      <td>0.000126</td>\n",
       "    </tr>\n",
       "    <tr>\n",
       "      <th>3</th>\n",
       "      <td>0.119534</td>\n",
       "      <td>0.988218</td>\n",
       "      <td>0.988218</td>\n",
       "      <td>0.989134</td>\n",
       "      <td>0.088732</td>\n",
       "      <td>0.000054</td>\n",
       "      <td>0.025911</td>\n",
       "      <td>0.040748</td>\n",
       "      <td>0.288363</td>\n",
       "      <td>0.418691</td>\n",
       "      <td>...</td>\n",
       "      <td>1.880819e-15</td>\n",
       "      <td>3.839709e-12</td>\n",
       "      <td>2.721975e-13</td>\n",
       "      <td>3.373713e-18</td>\n",
       "      <td>3.590511e-17</td>\n",
       "      <td>2.972008e-16</td>\n",
       "      <td>3.377845e-14</td>\n",
       "      <td>3.903861e-19</td>\n",
       "      <td>6.623144e-17</td>\n",
       "      <td>0.000149</td>\n",
       "    </tr>\n",
       "    <tr>\n",
       "      <th>4</th>\n",
       "      <td>0.233236</td>\n",
       "      <td>1.000000</td>\n",
       "      <td>1.000000</td>\n",
       "      <td>1.000000</td>\n",
       "      <td>0.190939</td>\n",
       "      <td>0.000060</td>\n",
       "      <td>0.025049</td>\n",
       "      <td>0.030614</td>\n",
       "      <td>0.393253</td>\n",
       "      <td>0.996247</td>\n",
       "      <td>...</td>\n",
       "      <td>6.000437e-14</td>\n",
       "      <td>4.945222e-11</td>\n",
       "      <td>2.409083e-11</td>\n",
       "      <td>8.914896e-16</td>\n",
       "      <td>2.484347e-16</td>\n",
       "      <td>8.562875e-16</td>\n",
       "      <td>7.157914e-14</td>\n",
       "      <td>3.332230e-18</td>\n",
       "      <td>1.821889e-16</td>\n",
       "      <td>0.000194</td>\n",
       "    </tr>\n",
       "  </tbody>\n",
       "</table>\n",
       "<p>5 rows × 31 columns</p>\n",
       "</div>"
      ],
      "text/plain": [
       "          H     epoch  epoch_mjd  epoch_cal         e         a         q  \\\n",
       "0  0.131195  0.988218   0.988218   0.989134  0.076017  0.000066  0.030975   \n",
       "1  0.154519  1.000000   1.000000   1.000000  0.230004  0.000066  0.025712   \n",
       "2  0.187464  1.000000   1.000000   1.000000  0.256972  0.000063  0.023805   \n",
       "3  0.119534  0.988218   0.988218   0.989134  0.088732  0.000054  0.025911   \n",
       "4  0.233236  1.000000   1.000000   1.000000  0.190939  0.000060  0.025049   \n",
       "\n",
       "          i        om         w  ...       sigma_q       sigma_i  \\\n",
       "0  0.060467  0.223071  0.204438  ...  0.000000e+00  0.000000e+00   \n",
       "1  0.198916  0.480625  0.861674  ...  8.699747e-14  6.262048e-11   \n",
       "2  0.074158  0.471810  0.689073  ...  8.016988e-14  5.816901e-11   \n",
       "3  0.040748  0.288363  0.418691  ...  1.880819e-15  3.839709e-12   \n",
       "4  0.030614  0.393253  0.996247  ...  6.000437e-14  4.945222e-11   \n",
       "\n",
       "       sigma_om       sigma_w      sigma_ma      sigma_ad       sigma_n  \\\n",
       "0  0.000000e+00  0.000000e+00  0.000000e+00  0.000000e+00  0.000000e+00   \n",
       "1  5.179478e-12  2.713159e-16  2.650639e-16  8.984495e-16  6.029037e-14   \n",
       "2  1.383063e-11  5.285854e-16  2.426430e-16  7.900225e-16  5.717040e-14   \n",
       "3  2.721975e-13  3.373713e-18  3.590511e-17  2.972008e-16  3.377845e-14   \n",
       "4  2.409083e-11  8.914896e-16  2.484347e-16  8.562875e-16  7.157914e-14   \n",
       "\n",
       "       sigma_tp     sigma_per       rms  \n",
       "0  0.000000e+00  0.000000e+00  0.000161  \n",
       "1  3.912546e-18  1.921434e-16  0.000134  \n",
       "2  3.384558e-18  1.621282e-16  0.000126  \n",
       "3  3.903861e-19  6.623144e-17  0.000149  \n",
       "4  3.332230e-18  1.821889e-16  0.000194  \n",
       "\n",
       "[5 rows x 31 columns]"
      ]
     },
     "execution_count": 39,
     "metadata": {},
     "output_type": "execute_result"
    }
   ],
   "source": [
    "from sklearn import preprocessing\n",
    "\n",
    "scaler = preprocessing.MinMaxScaler()\n",
    "scaled_df = scaler.fit_transform(subset_df)\n",
    "scaled_df = pd.DataFrame(scaled_df, columns=subset_df.columns)\n",
    "#We are matching column names from the old df to the new one\n",
    "asteroid_df = pd.concat([asteroid_df[['spkid', 'full_name', 'neo', 'pha', 'orbit_id', 'class']],scaled_df], axis=1)\n",
    "scaled_df.head()\n",
    "# Scaling and preprocessing using module sklearn library\n",
    "\n",
    "# scaler -> transform features by scaling then to a given range where minmax puts it between 0 to 1"
   ]
  },
  {
   "cell_type": "code",
   "execution_count": 40,
   "metadata": {
    "colab": {
     "base_uri": "https://localhost:8080/",
     "height": 273
    },
    "id": "1V-fXEJyqrim",
    "outputId": "397b465d-f61c-4c89-a56d-5318be250a24"
   },
   "outputs": [
    {
     "data": {
      "text/html": [
       "<div>\n",
       "<style scoped>\n",
       "    .dataframe tbody tr th:only-of-type {\n",
       "        vertical-align: middle;\n",
       "    }\n",
       "\n",
       "    .dataframe tbody tr th {\n",
       "        vertical-align: top;\n",
       "    }\n",
       "\n",
       "    .dataframe thead th {\n",
       "        text-align: right;\n",
       "    }\n",
       "</style>\n",
       "<table border=\"1\" class=\"dataframe\">\n",
       "  <thead>\n",
       "    <tr style=\"text-align: right;\">\n",
       "      <th></th>\n",
       "      <th>spkid</th>\n",
       "      <th>full_name</th>\n",
       "      <th>pha</th>\n",
       "      <th>H</th>\n",
       "      <th>epoch</th>\n",
       "      <th>epoch_mjd</th>\n",
       "      <th>epoch_cal</th>\n",
       "      <th>e</th>\n",
       "      <th>a</th>\n",
       "      <th>q</th>\n",
       "      <th>...</th>\n",
       "      <th>orbit_id_JPL 90</th>\n",
       "      <th>orbit_id_JPL 91</th>\n",
       "      <th>orbit_id_JPL 92</th>\n",
       "      <th>orbit_id_JPL 93</th>\n",
       "      <th>orbit_id_JPL 94</th>\n",
       "      <th>orbit_id_JPL 95</th>\n",
       "      <th>orbit_id_JPL 96</th>\n",
       "      <th>orbit_id_JPL 97</th>\n",
       "      <th>orbit_id_JPL 98</th>\n",
       "      <th>orbit_id_JPL 99</th>\n",
       "    </tr>\n",
       "  </thead>\n",
       "  <tbody>\n",
       "    <tr>\n",
       "      <th>0</th>\n",
       "      <td>2000001</td>\n",
       "      <td>1 Ceres</td>\n",
       "      <td>N</td>\n",
       "      <td>0.131195</td>\n",
       "      <td>0.988218</td>\n",
       "      <td>0.988218</td>\n",
       "      <td>0.989134</td>\n",
       "      <td>0.076017</td>\n",
       "      <td>0.000066</td>\n",
       "      <td>0.030975</td>\n",
       "      <td>...</td>\n",
       "      <td>False</td>\n",
       "      <td>False</td>\n",
       "      <td>False</td>\n",
       "      <td>False</td>\n",
       "      <td>False</td>\n",
       "      <td>False</td>\n",
       "      <td>False</td>\n",
       "      <td>False</td>\n",
       "      <td>False</td>\n",
       "      <td>False</td>\n",
       "    </tr>\n",
       "    <tr>\n",
       "      <th>1</th>\n",
       "      <td>2000002</td>\n",
       "      <td>2 Pallas</td>\n",
       "      <td>N</td>\n",
       "      <td>0.154519</td>\n",
       "      <td>1.000000</td>\n",
       "      <td>1.000000</td>\n",
       "      <td>1.000000</td>\n",
       "      <td>0.230004</td>\n",
       "      <td>0.000066</td>\n",
       "      <td>0.025712</td>\n",
       "      <td>...</td>\n",
       "      <td>False</td>\n",
       "      <td>False</td>\n",
       "      <td>False</td>\n",
       "      <td>False</td>\n",
       "      <td>False</td>\n",
       "      <td>False</td>\n",
       "      <td>False</td>\n",
       "      <td>False</td>\n",
       "      <td>False</td>\n",
       "      <td>False</td>\n",
       "    </tr>\n",
       "    <tr>\n",
       "      <th>2</th>\n",
       "      <td>2000003</td>\n",
       "      <td>3 Juno</td>\n",
       "      <td>N</td>\n",
       "      <td>0.187464</td>\n",
       "      <td>1.000000</td>\n",
       "      <td>1.000000</td>\n",
       "      <td>1.000000</td>\n",
       "      <td>0.256972</td>\n",
       "      <td>0.000063</td>\n",
       "      <td>0.023805</td>\n",
       "      <td>...</td>\n",
       "      <td>False</td>\n",
       "      <td>False</td>\n",
       "      <td>False</td>\n",
       "      <td>False</td>\n",
       "      <td>False</td>\n",
       "      <td>False</td>\n",
       "      <td>False</td>\n",
       "      <td>False</td>\n",
       "      <td>False</td>\n",
       "      <td>False</td>\n",
       "    </tr>\n",
       "    <tr>\n",
       "      <th>3</th>\n",
       "      <td>2000004</td>\n",
       "      <td>4 Vesta</td>\n",
       "      <td>N</td>\n",
       "      <td>0.119534</td>\n",
       "      <td>0.988218</td>\n",
       "      <td>0.988218</td>\n",
       "      <td>0.989134</td>\n",
       "      <td>0.088732</td>\n",
       "      <td>0.000054</td>\n",
       "      <td>0.025911</td>\n",
       "      <td>...</td>\n",
       "      <td>False</td>\n",
       "      <td>False</td>\n",
       "      <td>False</td>\n",
       "      <td>False</td>\n",
       "      <td>False</td>\n",
       "      <td>False</td>\n",
       "      <td>False</td>\n",
       "      <td>False</td>\n",
       "      <td>False</td>\n",
       "      <td>False</td>\n",
       "    </tr>\n",
       "    <tr>\n",
       "      <th>4</th>\n",
       "      <td>2000005</td>\n",
       "      <td>5 Astraea</td>\n",
       "      <td>N</td>\n",
       "      <td>0.233236</td>\n",
       "      <td>1.000000</td>\n",
       "      <td>1.000000</td>\n",
       "      <td>1.000000</td>\n",
       "      <td>0.190939</td>\n",
       "      <td>0.000060</td>\n",
       "      <td>0.025049</td>\n",
       "      <td>...</td>\n",
       "      <td>False</td>\n",
       "      <td>False</td>\n",
       "      <td>False</td>\n",
       "      <td>False</td>\n",
       "      <td>False</td>\n",
       "      <td>False</td>\n",
       "      <td>False</td>\n",
       "      <td>False</td>\n",
       "      <td>False</td>\n",
       "      <td>False</td>\n",
       "    </tr>\n",
       "  </tbody>\n",
       "</table>\n",
       "<p>5 rows × 573 columns</p>\n",
       "</div>"
      ],
      "text/plain": [
       "     spkid       full_name pha         H     epoch  epoch_mjd  epoch_cal  \\\n",
       "0  2000001         1 Ceres   N  0.131195  0.988218   0.988218   0.989134   \n",
       "1  2000002        2 Pallas   N  0.154519  1.000000   1.000000   1.000000   \n",
       "2  2000003          3 Juno   N  0.187464  1.000000   1.000000   1.000000   \n",
       "3  2000004         4 Vesta   N  0.119534  0.988218   0.988218   0.989134   \n",
       "4  2000005       5 Astraea   N  0.233236  1.000000   1.000000   1.000000   \n",
       "\n",
       "          e         a         q  ...  orbit_id_JPL 90  orbit_id_JPL 91  \\\n",
       "0  0.076017  0.000066  0.030975  ...            False            False   \n",
       "1  0.230004  0.000066  0.025712  ...            False            False   \n",
       "2  0.256972  0.000063  0.023805  ...            False            False   \n",
       "3  0.088732  0.000054  0.025911  ...            False            False   \n",
       "4  0.190939  0.000060  0.025049  ...            False            False   \n",
       "\n",
       "   orbit_id_JPL 92  orbit_id_JPL 93  orbit_id_JPL 94  orbit_id_JPL 95  \\\n",
       "0            False            False            False            False   \n",
       "1            False            False            False            False   \n",
       "2            False            False            False            False   \n",
       "3            False            False            False            False   \n",
       "4            False            False            False            False   \n",
       "\n",
       "   orbit_id_JPL 96  orbit_id_JPL 97  orbit_id_JPL 98  orbit_id_JPL 99  \n",
       "0            False            False            False            False  \n",
       "1            False            False            False            False  \n",
       "2            False            False            False            False  \n",
       "3            False            False            False            False  \n",
       "4            False            False            False            False  \n",
       "\n",
       "[5 rows x 573 columns]"
      ]
     },
     "execution_count": 40,
     "metadata": {},
     "output_type": "execute_result"
    }
   ],
   "source": [
    "asteroid_df1 = pd.get_dummies(asteroid_df, columns=['neo', 'class', 'orbit_id'])\n",
    "asteroid_df1.shape\n",
    "asteroid_df1.head()\n",
    "#Performing ONE HOT ENCODING on neo, class, and orbit_id columns\n",
    "# converts categorical data into numerical format"
   ]
  },
  {
   "cell_type": "markdown",
   "metadata": {
    "id": "b4XJ3a9SirAn"
   },
   "source": [
    "\n",
    "\n",
    "---\n",
    "\n"
   ]
  },
  {
   "cell_type": "markdown",
   "metadata": {
    "id": "tbzF5oR9ivvZ"
   },
   "source": [
    "# **ML MODEL DEVELOPING**"
   ]
  },
  {
   "cell_type": "markdown",
   "metadata": {
    "id": "LXJPf8nOis3d"
   },
   "source": [
    "\n",
    "\n",
    "---\n",
    "\n"
   ]
  },
  {
   "cell_type": "code",
   "execution_count": 41,
   "metadata": {
    "id": "V-p_HnB2q5nA"
   },
   "outputs": [],
   "source": [
    "from sklearn.model_selection import train_test_split\n",
    "X = asteroid_df1.drop(['spkid', 'full_name', 'pha'], axis = 1)    #dropping these since we dont need them, and pha will be used as a label alone\n",
    "Y = asteroid_df1.iloc[:]['pha']\n",
    "x_train, x_test, y_train, y_test =  train_test_split(X, Y, test_size=0.30, random_state=1501)\n",
    "# the last line specifies that 30% of the data will be used for testing purpose and the random state ensures that the data for tesitng is selected at random and that is set to any random arbitrary value, like 1501 here"
   ]
  },
  {
   "cell_type": "code",
   "execution_count": 42,
   "metadata": {
    "colab": {
     "base_uri": "https://localhost:8080/"
    },
    "id": "qejeBjEiAszY",
    "outputId": "86711964-4a37-4ad8-ea60-1e8417341df3"
   },
   "outputs": [
    {
     "name": "stdout",
     "output_type": "stream",
     "text": [
      "Before OverSampling, counts of label 'N': 651221\n",
      "Before OverSampling, counts of label 'Y': 1413 \n",
      "\n"
     ]
    }
   ],
   "source": [
    "print(\"Before OverSampling, counts of label 'N': {}\".format(sum(y_train == 'N')))\n",
    "print(\"Before OverSampling, counts of label 'Y': {} \\n\".format(sum(y_train == 'Y')))\n",
    "# these lines are to get the count of the labels N and Y before performing data oversampling\n",
    "# these labels are used from the training dataset y_train"
   ]
  },
  {
   "cell_type": "code",
   "execution_count": 43,
   "metadata": {
    "colab": {
     "base_uri": "https://localhost:8080/"
    },
    "id": "xaaXId6UGDBr",
    "outputId": "c78f4eca-6b51-41dd-b273-2450ca53efee"
   },
   "outputs": [
    {
     "name": "stdout",
     "output_type": "stream",
     "text": [
      "After OverSampling, counts of label 'N': 651221\n",
      "After OverSampling, counts of label 'Y': 651221\n"
     ]
    }
   ],
   "source": [
    "\n",
    "from imblearn.over_sampling import SMOTE\n",
    "sm = SMOTE(random_state = 12)\n",
    "x_train_res, y_train_res = sm.fit_resample(x_train, y_train.to_numpy())\n",
    "\n",
    "print(\"After OverSampling, counts of label 'N': {}\".format(sum(y_train_res == 'N')))\n",
    "print(\"After OverSampling, counts of label 'Y': {}\".format(sum(y_train_res == 'Y')))\n"
   ]
  },
  {
   "cell_type": "code",
   "execution_count": 44,
   "metadata": {
    "colab": {
     "base_uri": "https://localhost:8080/",
     "height": 245
    },
    "id": "wBdB9QB-CVbO",
    "outputId": "5141e07f-a597-48e2-858d-6eb5d0e298d8"
   },
   "outputs": [],
   "source": [
    "# to solve class imbalance and do oversampling, lets use SMOTE\n",
    "from imblearn.over_sampling import SMOTE      #imblearn is a lib designed specifically for solving imbalance in datasets\n",
    "sm = SMOTE(random_state = 2)      #we're creating an instance of the smote class and calling it sm.the random seed here does the same job as it did previously, by just ensuring reproducibility\n",
    "x_train_res, y_train_res = sm.fit_resample(x_train, y_train.to_numpy()) \n",
    "\n",
    "\n",
    "#fitting it to the algorithm. the y_trian.ravel converts it from a 2d array to a 1d array\n",
    "# here, we're converting only the y_train data into 1d since its only dimension shd be target variable"
   ]
  },
  {
   "cell_type": "code",
   "execution_count": 45,
   "metadata": {
    "id": "M9ZjbZxhE5sJ",
    "outputId": "a7118076-3079-4aad-a0aa-00760be94bc7"
   },
   "outputs": [
    {
     "name": "stdout",
     "output_type": "stream",
     "text": [
      "After OverSampling, counts of label 'N': 651221\n",
      "After OverSampling, counts of label 'Y': 651221\n"
     ]
    }
   ],
   "source": [
    "print(\"After OverSampling, counts of label 'N': {}\".format(sum(y_train_res == 'N')))\n",
    "print(\"After OverSampling, counts of label 'Y': {}\".format(sum(y_train_res == 'Y')))"
   ]
  },
  {
   "cell_type": "code",
   "execution_count": 46,
   "metadata": {
    "id": "HZfa7I1esEYZ"
   },
   "outputs": [],
   "source": [
    "from sklearn import metrics\n",
    "def metricCalculation(y_test, pred):\n",
    "\n",
    "    precision_metric = metrics.precision_score(y_test, pred, average = \"macro\")\n",
    "    recall_metric = metrics.recall_score(y_test, pred, average = \"macro\")\n",
    "    accuracy_metric = metrics.accuracy_score(y_test, pred)\n",
    "    f1_metric = metrics.f1_score(y_test, pred, average = \"macro\")\n",
    "    print('Precision metric:',round(precision_metric, 2))\n",
    "    print('Recall Metric:',round(recall_metric, 2))\n",
    "    print('Accuracy Metric:',round(accuracy_metric, 4))\n",
    "    print('F1 score:',round(f1_metric, 2))\n",
    "# here, we cant call the function because the pred differs from ml model to ml model"
   ]
  },
  {
   "cell_type": "markdown",
   "metadata": {
    "id": "tgAhWHlssEYZ"
   },
   "source": [
    " LOGISTIC REGRESSION"
   ]
  },
  {
   "cell_type": "code",
   "execution_count": 47,
   "metadata": {
    "id": "vfc1tndKsEYa"
   },
   "outputs": [],
   "source": [
    "# here, we'll compare the various metrics with eachother and come up with an accuracy estimate\n",
    "from sklearn.linear_model import LogisticRegression\n",
    "logisticRegr = LogisticRegression(max_iter= 100)\n",
    "logisticRegr.fit(x_train_res, y_train_res)\n",
    "lr_pred = logisticRegr.predict(x_test)"
   ]
  },
  {
   "cell_type": "code",
   "execution_count": 48,
   "metadata": {
    "id": "Ht8kBC91sEYa",
    "outputId": "faa1ea43-ea0b-4c54-c395-6d45e35b7a16"
   },
   "outputs": [
    {
     "name": "stdout",
     "output_type": "stream",
     "text": [
      "Precision metric: 0.61\n",
      "Recall Metric: 0.97\n",
      "Accuracy Metric: 0.9922\n",
      "F1 score: 0.68\n"
     ]
    }
   ],
   "source": [
    "metricCalculation(y_test, lr_pred)\n",
    "# calling the function based on the logistic regression"
   ]
  },
  {
   "cell_type": "code",
   "execution_count": 49,
   "metadata": {
    "id": "eCe-1-tUsEYa",
    "outputId": "38f34816-bb8e-4997-d7da-4dfaeeffcf2a"
   },
   "outputs": [
    {
     "name": "stdout",
     "output_type": "stream",
     "text": [
      "[[276891   2157]\n",
      " [    30    623]]\n"
     ]
    }
   ],
   "source": [
    "print(metrics.confusion_matrix(y_test, lr_pred))"
   ]
  },
  {
   "cell_type": "code",
   "execution_count": 50,
   "metadata": {
    "id": "YJb8btdisEYa"
   },
   "outputs": [],
   "source": [
    "# the above code shows that there is a high false positive value, which says that logistic regression isnt strong enough to analyse the dataset properly"
   ]
  },
  {
   "cell_type": "markdown",
   "metadata": {
    "id": "nhrinimaRsqq"
   },
   "source": [
    "\n",
    "\n",
    "---\n",
    "\n"
   ]
  },
  {
   "cell_type": "markdown",
   "metadata": {
    "id": "UUSw7t74R8sn"
   },
   "source": [
    "RANDOM FOREST"
   ]
  },
  {
   "cell_type": "code",
   "execution_count": 51,
   "metadata": {
    "id": "c1oy-c6UR165"
   },
   "outputs": [
    {
     "name": "stdout",
     "output_type": "stream",
     "text": [
      "Best number of trees: 150\n"
     ]
    }
   ],
   "source": [
    "# to find the best value for the number of trees in the forest\n",
    "from sklearn.model_selection import cross_val_score\n",
    "from sklearn.ensemble import RandomForestClassifier\n",
    "\n",
    "num_trees = [100, 150]  # Experiment with different values\n",
    "cv_scores = []\n",
    "\n",
    "for n in num_trees:\n",
    "    rf = RandomForestClassifier(n_estimators=n, random_state=1551)\n",
    "    scores = cross_val_score(rf, x_train_res, y_train_res, cv=2, scoring='accuracy')     #cv=5 specifies that we're using 5 folds here\n",
    "    cv_scores.append(scores.mean())\n",
    "\n",
    "# Find the best number of trees\n",
    "best_num_trees = num_trees[cv_scores.index(max(cv_scores))]\n",
    "print(\"Best number of trees:\", best_num_trees)"
   ]
  },
  {
   "cell_type": "code",
   "execution_count": 52,
   "metadata": {
    "id": "GKUvghl_SC1D"
   },
   "outputs": [
    {
     "name": "stdout",
     "output_type": "stream",
     "text": [
      "['N' 'N' 'N' ... 'N' 'N' 'N']\n"
     ]
    }
   ],
   "source": [
    "# random forest is best to remove overfitting, and is better than logistic regression\n",
    "from sklearn.ensemble import RandomForestClassifier\n",
    "rf = RandomForestClassifier(n_estimators=150, random_state = 1551)\n",
    "# the n_estimators specifies the number of trees, which we got after using cross validation\n",
    "rf.fit(x_train_res, y_train_res)\n",
    "rf_pred = rf.predict(x_test)\n",
    "print(rf_pred)"
   ]
  },
  {
   "cell_type": "code",
   "execution_count": 53,
   "metadata": {
    "id": "wLQH0jNhSGYX"
   },
   "outputs": [
    {
     "name": "stdout",
     "output_type": "stream",
     "text": [
      "Precision metric: 0.98\n",
      "Recall Metric: 1.0\n",
      "Accuracy Metric: 0.9999\n",
      "F1 score: 0.98\n"
     ]
    }
   ],
   "source": [
    "metricCalculation(y_test, rf_pred)"
   ]
  },
  {
   "cell_type": "code",
   "execution_count": 54,
   "metadata": {
    "id": "uM1zwxUySIta"
   },
   "outputs": [
    {
     "name": "stdout",
     "output_type": "stream",
     "text": [
      "[[279014     34]\n",
      " [     6    647]]\n"
     ]
    }
   ],
   "source": [
    "print(metrics.confusion_matrix(y_test, rf_pred))\n",
    "# this shows that random forest has a better score and is better and more accurate than the regression model"
   ]
  },
  {
   "cell_type": "code",
   "execution_count": 55,
   "metadata": {
    "colab": {
     "base_uri": "https://localhost:8080/",
     "height": 141
    },
    "id": "fvX5a183SKib",
    "outputId": "40d09353-7535-4025-82ce-6145889cb8d1"
   },
   "outputs": [
    {
     "data": {
      "text/html": [
       "<div>\n",
       "<style scoped>\n",
       "    .dataframe tbody tr th:only-of-type {\n",
       "        vertical-align: middle;\n",
       "    }\n",
       "\n",
       "    .dataframe tbody tr th {\n",
       "        vertical-align: top;\n",
       "    }\n",
       "\n",
       "    .dataframe thead th {\n",
       "        text-align: right;\n",
       "    }\n",
       "</style>\n",
       "<table border=\"1\" class=\"dataframe\">\n",
       "  <thead>\n",
       "    <tr style=\"text-align: right;\">\n",
       "      <th></th>\n",
       "      <th>spkid</th>\n",
       "      <th>full_name</th>\n",
       "      <th>pha</th>\n",
       "      <th>H</th>\n",
       "      <th>epoch</th>\n",
       "      <th>epoch_mjd</th>\n",
       "      <th>epoch_cal</th>\n",
       "      <th>e</th>\n",
       "      <th>a</th>\n",
       "      <th>q</th>\n",
       "      <th>...</th>\n",
       "      <th>orbit_id_JPL 90</th>\n",
       "      <th>orbit_id_JPL 91</th>\n",
       "      <th>orbit_id_JPL 92</th>\n",
       "      <th>orbit_id_JPL 93</th>\n",
       "      <th>orbit_id_JPL 94</th>\n",
       "      <th>orbit_id_JPL 95</th>\n",
       "      <th>orbit_id_JPL 96</th>\n",
       "      <th>orbit_id_JPL 97</th>\n",
       "      <th>orbit_id_JPL 98</th>\n",
       "      <th>orbit_id_JPL 99</th>\n",
       "    </tr>\n",
       "  </thead>\n",
       "  <tbody>\n",
       "    <tr>\n",
       "      <th>0</th>\n",
       "      <td>2000001</td>\n",
       "      <td>1 Ceres</td>\n",
       "      <td>N</td>\n",
       "      <td>0.131195</td>\n",
       "      <td>0.988218</td>\n",
       "      <td>0.988218</td>\n",
       "      <td>0.989134</td>\n",
       "      <td>0.076017</td>\n",
       "      <td>0.000066</td>\n",
       "      <td>0.030975</td>\n",
       "      <td>...</td>\n",
       "      <td>False</td>\n",
       "      <td>False</td>\n",
       "      <td>False</td>\n",
       "      <td>False</td>\n",
       "      <td>False</td>\n",
       "      <td>False</td>\n",
       "      <td>False</td>\n",
       "      <td>False</td>\n",
       "      <td>False</td>\n",
       "      <td>False</td>\n",
       "    </tr>\n",
       "    <tr>\n",
       "      <th>1</th>\n",
       "      <td>2000002</td>\n",
       "      <td>2 Pallas</td>\n",
       "      <td>N</td>\n",
       "      <td>0.154519</td>\n",
       "      <td>1.000000</td>\n",
       "      <td>1.000000</td>\n",
       "      <td>1.000000</td>\n",
       "      <td>0.230004</td>\n",
       "      <td>0.000066</td>\n",
       "      <td>0.025712</td>\n",
       "      <td>...</td>\n",
       "      <td>False</td>\n",
       "      <td>False</td>\n",
       "      <td>False</td>\n",
       "      <td>False</td>\n",
       "      <td>False</td>\n",
       "      <td>False</td>\n",
       "      <td>False</td>\n",
       "      <td>False</td>\n",
       "      <td>False</td>\n",
       "      <td>False</td>\n",
       "    </tr>\n",
       "    <tr>\n",
       "      <th>2</th>\n",
       "      <td>2000003</td>\n",
       "      <td>3 Juno</td>\n",
       "      <td>N</td>\n",
       "      <td>0.187464</td>\n",
       "      <td>1.000000</td>\n",
       "      <td>1.000000</td>\n",
       "      <td>1.000000</td>\n",
       "      <td>0.256972</td>\n",
       "      <td>0.000063</td>\n",
       "      <td>0.023805</td>\n",
       "      <td>...</td>\n",
       "      <td>False</td>\n",
       "      <td>False</td>\n",
       "      <td>False</td>\n",
       "      <td>False</td>\n",
       "      <td>False</td>\n",
       "      <td>False</td>\n",
       "      <td>False</td>\n",
       "      <td>False</td>\n",
       "      <td>False</td>\n",
       "      <td>False</td>\n",
       "    </tr>\n",
       "    <tr>\n",
       "      <th>3</th>\n",
       "      <td>2000004</td>\n",
       "      <td>4 Vesta</td>\n",
       "      <td>N</td>\n",
       "      <td>0.119534</td>\n",
       "      <td>0.988218</td>\n",
       "      <td>0.988218</td>\n",
       "      <td>0.989134</td>\n",
       "      <td>0.088732</td>\n",
       "      <td>0.000054</td>\n",
       "      <td>0.025911</td>\n",
       "      <td>...</td>\n",
       "      <td>False</td>\n",
       "      <td>False</td>\n",
       "      <td>False</td>\n",
       "      <td>False</td>\n",
       "      <td>False</td>\n",
       "      <td>False</td>\n",
       "      <td>False</td>\n",
       "      <td>False</td>\n",
       "      <td>False</td>\n",
       "      <td>False</td>\n",
       "    </tr>\n",
       "    <tr>\n",
       "      <th>4</th>\n",
       "      <td>2000005</td>\n",
       "      <td>5 Astraea</td>\n",
       "      <td>N</td>\n",
       "      <td>0.233236</td>\n",
       "      <td>1.000000</td>\n",
       "      <td>1.000000</td>\n",
       "      <td>1.000000</td>\n",
       "      <td>0.190939</td>\n",
       "      <td>0.000060</td>\n",
       "      <td>0.025049</td>\n",
       "      <td>...</td>\n",
       "      <td>False</td>\n",
       "      <td>False</td>\n",
       "      <td>False</td>\n",
       "      <td>False</td>\n",
       "      <td>False</td>\n",
       "      <td>False</td>\n",
       "      <td>False</td>\n",
       "      <td>False</td>\n",
       "      <td>False</td>\n",
       "      <td>False</td>\n",
       "    </tr>\n",
       "  </tbody>\n",
       "</table>\n",
       "<p>5 rows × 573 columns</p>\n",
       "</div>"
      ],
      "text/plain": [
       "     spkid       full_name pha         H     epoch  epoch_mjd  epoch_cal  \\\n",
       "0  2000001         1 Ceres   N  0.131195  0.988218   0.988218   0.989134   \n",
       "1  2000002        2 Pallas   N  0.154519  1.000000   1.000000   1.000000   \n",
       "2  2000003          3 Juno   N  0.187464  1.000000   1.000000   1.000000   \n",
       "3  2000004         4 Vesta   N  0.119534  0.988218   0.988218   0.989134   \n",
       "4  2000005       5 Astraea   N  0.233236  1.000000   1.000000   1.000000   \n",
       "\n",
       "          e         a         q  ...  orbit_id_JPL 90  orbit_id_JPL 91  \\\n",
       "0  0.076017  0.000066  0.030975  ...            False            False   \n",
       "1  0.230004  0.000066  0.025712  ...            False            False   \n",
       "2  0.256972  0.000063  0.023805  ...            False            False   \n",
       "3  0.088732  0.000054  0.025911  ...            False            False   \n",
       "4  0.190939  0.000060  0.025049  ...            False            False   \n",
       "\n",
       "   orbit_id_JPL 92  orbit_id_JPL 93  orbit_id_JPL 94  orbit_id_JPL 95  \\\n",
       "0            False            False            False            False   \n",
       "1            False            False            False            False   \n",
       "2            False            False            False            False   \n",
       "3            False            False            False            False   \n",
       "4            False            False            False            False   \n",
       "\n",
       "   orbit_id_JPL 96  orbit_id_JPL 97  orbit_id_JPL 98  orbit_id_JPL 99  \n",
       "0            False            False            False            False  \n",
       "1            False            False            False            False  \n",
       "2            False            False            False            False  \n",
       "3            False            False            False            False  \n",
       "4            False            False            False            False  \n",
       "\n",
       "[5 rows x 573 columns]"
      ]
     },
     "execution_count": 55,
     "metadata": {},
     "output_type": "execute_result"
    }
   ],
   "source": [
    "asteroid_df1.head()"
   ]
  },
  {
   "cell_type": "markdown",
   "metadata": {},
   "source": [
    "DEEP LEARNING USING TENSOR FLOW"
   ]
  },
  {
   "cell_type": "code",
   "execution_count": 56,
   "metadata": {},
   "outputs": [],
   "source": [
    "# Import necessary libraries\n",
    "import tensorflow as tf\n",
    "from tensorflow.keras.models import Sequential\n",
    "from tensorflow.keras.layers import Dense, Flatten, Conv1D, MaxPooling1D"
   ]
  },
  {
   "cell_type": "code",
   "execution_count": 57,
   "metadata": {},
   "outputs": [
    {
     "name": "stderr",
     "output_type": "stream",
     "text": [
      "c:\\Users\\DELL\\anaconda3\\Lib\\site-packages\\keras\\src\\layers\\convolutional\\base_conv.py:107: UserWarning: Do not pass an `input_shape`/`input_dim` argument to a layer. When using Sequential models, prefer using an `Input(shape)` object as the first layer in the model instead.\n",
      "  super().__init__(activity_regularizer=activity_regularizer, **kwargs)\n"
     ]
    }
   ],
   "source": [
    "# Define the model architecture\n",
    "model = Sequential([\n",
    "  # Assuming your data is in a 1D format (e.g., numerical features)\n",
    "  Conv1D(filters=32, kernel_size=3, activation='relu', input_shape=(x_train_res.shape[1], 1)),\n",
    "  MaxPooling1D(pool_size=2),\n",
    "  Flatten(),  # Flatten the output from the convolutional layer(s)\n",
    "  Dense(128, activation='relu'),  # Hidden layer with 128 neurons and ReLU activation\n",
    "  Dense(1, activation='sigmoid')  # Output layer with 1 neuron and sigmoid activation for binary classification\n",
    "])"
   ]
  },
  {
   "cell_type": "code",
   "execution_count": 58,
   "metadata": {},
   "outputs": [],
   "source": [
    "# Compile the model\n",
    "model.compile(optimizer='adam', loss='binary_crossentropy', metrics=['accuracy'])"
   ]
  },
  {
   "cell_type": "code",
   "execution_count": 65,
   "metadata": {},
   "outputs": [],
   "source": [
    "from sklearn.preprocessing import LabelEncoder\n",
    "\n",
    "le = LabelEncoder()\n",
    "y_train_res = le.fit_transform(y_train_res)"
   ]
  },
  {
   "cell_type": "code",
   "execution_count": 67,
   "metadata": {},
   "outputs": [
    {
     "name": "stdout",
     "output_type": "stream",
     "text": [
      "\u001b[1m40702/40702\u001b[0m \u001b[32m━━━━━━━━━━━━━━━━━━━━\u001b[0m\u001b[37m\u001b[0m \u001b[1m451s\u001b[0m 11ms/step - accuracy: 0.9952 - loss: 0.0207\n"
     ]
    },
    {
     "data": {
      "text/plain": [
       "<keras.src.callbacks.history.History at 0x27188cafda0>"
      ]
     },
     "execution_count": 67,
     "metadata": {},
     "output_type": "execute_result"
    }
   ],
   "source": [
    "model.fit(x_train_res, y_train_res, epochs=1, batch_size=32)\n"
   ]
  },
  {
   "cell_type": "code",
   "execution_count": 70,
   "metadata": {},
   "outputs": [
    {
     "name": "stdout",
     "output_type": "stream",
     "text": [
      "\u001b[1m40702/40702\u001b[0m \u001b[32m━━━━━━━━━━━━━━━━━━━━\u001b[0m\u001b[37m\u001b[0m \u001b[1m162s\u001b[0m 4ms/step - accuracy: 0.9960 - loss: 0.0182\n",
      "Test accuracy: 0.9975546002388\n"
     ]
    }
   ],
   "source": [
    "# Evaluate the model\n",
    "loss, accuracy = model.evaluate(x_train_res, y_train_res)\n",
    "print('Test accuracy:', accuracy)"
   ]
  },
  {
   "cell_type": "code",
   "execution_count": 69,
   "metadata": {},
   "outputs": [
    {
     "name": "stdout",
     "output_type": "stream",
     "text": [
      "\u001b[1m8741/8741\u001b[0m \u001b[32m━━━━━━━━━━━━━━━━━━━━\u001b[0m\u001b[37m\u001b[0m \u001b[1m18s\u001b[0m 2ms/step\n"
     ]
    }
   ],
   "source": [
    "# Make predictions on new data\n",
    "predictions = model.predict(x_test)"
   ]
  },
  {
   "cell_type": "markdown",
   "metadata": {},
   "source": [
    "Interpretation:\n",
    "\n",
    "\n",
    "High Accuracy: The model achieved a very high accuracy of 99.75% on the test set, indicating strong performance in classifying the target variable.\n",
    "\n",
    "\n",
    "Loss Reduction: The loss decreased from 0.0287 during training to 0.0182 on the test set, suggesting that the model learned effectively.\n",
    "\n",
    "\n",
    "Training Time: The training took approximately 7 minutes and 42 seconds, which might be considered reasonable depending on the complexity of the model and the size of the dataset.\n",
    "\n",
    "\n",
    "Evaluation Time: The evaluation took around 2 minutes and 50.7 seconds, indicating that the model is reasonably efficient for making predictions.\n",
    "\n",
    "\n",
    "Overall, the results suggest that the deep learning model is performing well on the given task. The high accuracy and low loss on both training and test sets indicate that the model is able to generalize well to unseen data. However, it's important to consider other factors such as the class imbalance and the specific characteristics of the dataset to get a complete understanding of the model's performance."
   ]
  },
  {
   "cell_type": "markdown",
   "metadata": {},
   "source": [
    "Comparing Deep Learning and Random Forest\n",
    "\n",
    "\n",
    "\n",
    "Based on the provided accuracy metrics (0.9999 for Random Forest vs. 0.9975 for Deep Learning), Random Forest appears to have a slightly higher accuracy. However, it's important to consider other factors beyond accuracy:\n",
    "\n",
    "\n",
    "\n",
    "Complexity: Deep learning models can be more complex and computationally expensive to train and deploy.\n",
    "\n",
    "\n",
    "Interpretability: Random Forest models are generally easier to interpret than deep learning models, as they can be visualized as decision trees.\n",
    "\n",
    "\n",
    "Feature Engineering: Random Forest is often less sensitive to feature engineering compared to deep learning, which can be an advantage in some cases.\n",
    "\n",
    "\n",
    "Additional Considerations:\n",
    "\n",
    "\n",
    "Data Size: Deep learning models might excel with larger datasets, while Random Forest can perform well with smaller datasets.\n",
    "\n",
    "\n",
    "Task Complexity: For highly complex tasks or non-linear relationships, deep learning might have an advantage.\n",
    "\n",
    "\n",
    "Domain Knowledge: If you have domain knowledge about the problem, you might be able to incorporate it more easily into a Random Forest model.\n",
    "Conclusion:\n",
    "\n",
    "While Random Forest achieved a slightly higher accuracy in this case, the choice between Random Forest and Deep Learning depends on various factors like model complexity, interpretability, and the specific characteristics of your data and task. It's often beneficial to experiment with both approaches and compare their performance to determine the best model for your asteroid detection problem."
   ]
  },
  {
   "cell_type": "markdown",
   "metadata": {
    "id": "vQef1I6NsEYb"
   },
   "source": [
    "DATA VISUALISATION"
   ]
  },
  {
   "cell_type": "code",
   "execution_count": 74,
   "metadata": {
    "id": "FPVOFKRZsEYb",
    "outputId": "6b194b5d-28b9-4684-924a-6af8cbdca844"
   },
   "outputs": [],
   "source": [
    "# corr_df = asteroid_df1[['spkid', 'full_name', 'pha', 'H', 'epoch']].dropna().corr()\n",
    "#corr_df = asteroid_df1.dropna().corr()\n",
    "#corr_df"
   ]
  },
  {
   "cell_type": "code",
   "execution_count": 75,
   "metadata": {
    "id": "mED2HEATsEYb",
    "outputId": "05745383-0034-43e3-9922-c0e4e449d319"
   },
   "outputs": [],
   "source": [
    "#ax = sns.heatmap(corr_df)"
   ]
  },
  {
   "cell_type": "code",
   "execution_count": 76,
   "metadata": {},
   "outputs": [
    {
     "data": {
      "image/png": "[encoded data removed]",
      "text/plain": [
       "<Figure size 640x480 with 1 Axes>"
      ]
     },
     "metadata": {},
     "output_type": "display_data"
    }
   ],
   "source": [
    "import seaborn as sns\n",
    "\n",
    "sns.histplot(data['diameter'], bins=30)\n",
    "plt.xlabel('Diameter')\n",
    "plt.ylabel('Count')\n",
    "plt.title('Distribution of Asteroid Diameters')\n",
    "plt.show()"
   ]
  },
  {
   "cell_type": "code",
   "execution_count": 77,
   "metadata": {},
   "outputs": [
    {
     "data": {
      "image/png": "[encoded data removed]",
      "text/plain": [
       "<Figure size 640x480 with 1 Axes>"
      ]
     },
     "metadata": {},
     "output_type": "display_data"
    }
   ],
   "source": [
    "sns.scatterplot(x='diameter', y='albedo', data=data)\n",
    "plt.xlabel('Diameter')\n",
    "plt.ylabel('Albedo')\n",
    "plt.title('Relationship Between Diameter and Albedo')\n",
    "plt.show()"
   ]
  },
  {
   "cell_type": "markdown",
   "metadata": {},
   "source": [
    "KEY OBSERVATIONS : \n",
    "\n",
    "Negative Correlation:\n",
    "        \n",
    "        There seems to be a general negative correlation between diameter and albedo.\n",
    "        This suggests that as the diameter of an asteroid increases, its albedo (reflectivity) tends to decrease.\n",
    "\n",
    "Clustering: \n",
    "        \n",
    "        The data points cluster in a few specific regions. This might indicate different groups or categories of\n",
    "        asteroids based on their diameter and albedo characteristics.\n",
    "\n",
    "Outliers: \n",
    "        \n",
    "        There are a few outliers with larger diameters and lower albedos. These could be interesting to investigate\n",
    "        further as they might represent unique asteroid types or properties.\n",
    "        "
   ]
  },
  {
   "cell_type": "markdown",
   "metadata": {},
   "source": [
    "POSSIBLE INTERPRETATIONS : \n",
    "\n",
    "Composition: \n",
    "\n",
    "    Asteroids with larger diameters might have different compositions or surface features that result in lower albedos.\n",
    "\n",
    "Formation Processes:\n",
    "\n",
    "    Different formation processes or evolutionary pathways could lead to asteroids with varying sizes and reflective properties.\n",
    "\n",
    "Age: \n",
    "\n",
    "    Older asteroids might have experienced more weathering and erosion, resulting in darker surfaces and lower albedos."
   ]
  },
  {
   "cell_type": "code",
   "execution_count": 83,
   "metadata": {},
   "outputs": [
    {
     "data": {
      "image/png": "[encoded data removed]",
      "text/plain": [
       "<Figure size 800x600 with 1 Axes>"
      ]
     },
     "metadata": {},
     "output_type": "display_data"
    }
   ],
   "source": [
    "import matplotlib.pyplot as plt\n",
    "\n",
    "plt.figure(figsize=(8, 6))\n",
    "plt.pie(data['class'].value_counts(), labels=data['class'].value_counts().index, autopct='%1.1f%%')\n",
    "plt.title('Distribution of Asteroid Classes')\n",
    "plt.show()"
   ]
  },
  {
   "cell_type": "code",
   "execution_count": 84,
   "metadata": {},
   "outputs": [
    {
     "data": {
      "image/png": "[encoded data removed]",
      "text/plain": [
       "<Figure size 640x480 with 1 Axes>"
      ]
     },
     "metadata": {},
     "output_type": "display_data"
    }
   ],
   "source": [
    "sns.histplot(data[data['pha'] == 'Y']['diameter'], bins=30, label='PHA')\n",
    "sns.histplot(data[data['pha'] == 'N']['diameter'], bins=30, label='Non-PHA')\n",
    "plt.xlabel('Diameter')\n",
    "plt.ylabel('Count')\n",
    "plt.title('Distribution of Diameter by PHA')\n",
    "plt.legend()\n",
    "plt.show()"
   ]
  },
  {
   "cell_type": "code",
   "execution_count": 95,
   "metadata": {},
   "outputs": [
    {
     "data": {
      "image/png": "[encoded data removed]",
      "text/plain": [
       "<Figure size 1250x1250 with 30 Axes>"
      ]
     },
     "metadata": {},
     "output_type": "display_data"
    }
   ],
   "source": [
    "import seaborn as sns\n",
    "import pandas as pd\n",
    "\n",
    "# Sample a smaller subset of data (e.g., 1000 rows)\n",
    "data_sample = data.sample(1000, random_state=42)  # Set random_state for reproducibility\n",
    "\n",
    "# Create the pair plot\n",
    "sns.pairplot(data_sample[['diameter', 'albedo', 'e', 'per', 'i']])\n",
    "plt.show()"
   ]
  },
  {
   "cell_type": "code",
   "execution_count": 96,
   "metadata": {},
   "outputs": [
    {
     "data": {
      "image/png": "[encoded data removed]",
      "text/plain": [
       "<Figure size 640x480 with 2 Axes>"
      ]
     },
     "metadata": {},
     "output_type": "display_data"
    }
   ],
   "source": [
    "# Calculate correlation matrix\n",
    "correlation_matrix = data[['diameter', 'albedo', 'e', 'per', 'i']].corr()\n",
    "\n",
    "# Create a heatmap\n",
    "sns.heatmap(correlation_matrix, annot=True, cmap='coolwarm')\n",
    "plt.show()"
   ]
  },
  {
   "cell_type": "markdown",
   "metadata": {},
   "source": [
    "The provided correlation matrix shows the relationships between the following features: diameter, albedo, eccentricity (e), orbital period (per), and inclination (i). Here are some key observations:\n",
    "\n",
    "\n",
    "Diameter and Albedo: There's a weak negative correlation between diameter and albedo. This suggests that larger asteroids tend to have slightly lower albedos.\n",
    "\n",
    "\n",
    "Eccentricity and Orbital Period: There's a moderate positive correlation between eccentricity and orbital period. This indicates that asteroids with more eccentric orbits (more elongated) tend to have longer orbital periods.\n",
    "\n",
    "\n",
    "Inclination and Other Features: Inclination (the angle of the orbit relative to the ecliptic plane) shows weak correlations with diameter, albedo, and eccentricity. This suggests that the inclination is relatively independent of these other orbital parameters.\n",
    "\n",
    "\n",
    "Overall, the correlation matrix reveals that there are some moderate relationships between certain features, but no strong, dominant correlations. This might indicate that the asteroid data is relatively complex and not easily explained by simple linear relationships. Further analysis and exploration would be needed to uncover more nuanced relationships between these features and their impact on the target variable (potentially hazardous status)."
   ]
  },
  {
   "cell_type": "code",
   "execution_count": 93,
   "metadata": {},
   "outputs": [
    {
     "data": {
      "text/plain": [
       "Index(['id', 'spkid', 'full_name', 'pdes', 'name', 'prefix', 'neo', 'pha', 'H',\n",
       "       'diameter', 'albedo', 'diameter_sigma', 'orbit_id', 'epoch',\n",
       "       'epoch_mjd', 'epoch_cal', 'equinox', 'e', 'a', 'q', 'i', 'om', 'w',\n",
       "       'ma', 'ad', 'n', 'tp', 'tp_cal', 'per', 'per_y', 'moid', 'moid_ld',\n",
       "       'sigma_e', 'sigma_a', 'sigma_q', 'sigma_i', 'sigma_om', 'sigma_w',\n",
       "       'sigma_ma', 'sigma_ad', 'sigma_n', 'sigma_tp', 'sigma_per', 'class',\n",
       "       'rms'],\n",
       "      dtype='object')"
      ]
     },
     "execution_count": 93,
     "metadata": {},
     "output_type": "execute_result"
    }
   ],
   "source": [
    "data.columns"
   ]
  }
 ],
 "metadata": {
  "accelerator": "GPU",
  "colab": {
   "gpuType": "T4",
   "provenance": []
  },
  "kernelspec": {
   "display_name": "base",
   "language": "python",
   "name": "python3"
  },
  "language_info": {
   "codemirror_mode": {
    "name": "ipython",
    "version": 3
   },
   "file_extension": ".py",
   "mimetype": "text/x-python",
   "name": "python",
   "nbconvert_exporter": "python",
   "pygments_lexer": "ipython3",
   "version": "3.12.4"
  }
 },
 "nbformat": 4,
 "nbformat_minor": 4
}
